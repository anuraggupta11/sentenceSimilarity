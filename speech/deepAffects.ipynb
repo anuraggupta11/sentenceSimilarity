{
 "cells": [
  {
   "cell_type": "code",
   "execution_count": 5,
   "metadata": {},
   "outputs": [],
   "source": [
    "#https://github.com/SEERNET/deepaffects-python/issues/35"
   ]
  },
  {
   "cell_type": "code",
   "execution_count": null,
   "metadata": {},
   "outputs": [],
   "source": [
    "from deepaffects.realtime.util import chunk_generator_from_file, chunk_generator_from_url, get_deepaffects_client"
   ]
  },
  {
   "cell_type": "code",
   "execution_count": 6,
   "metadata": {},
   "outputs": [],
   "source": [
    "TIMEOUT_SECONDS = 2000"
   ]
  },
  {
   "cell_type": "code",
   "execution_count": 7,
   "metadata": {},
   "outputs": [],
   "source": [
    "apikey = \"\""
   ]
  },
  {
   "cell_type": "code",
   "execution_count": 8,
   "metadata": {},
   "outputs": [],
   "source": [
    "# Set file_path as local file path or audio stream or youtube url\n",
    "file_path = \"/home/absin/git/sentenceSimilarity/audio/output10.wav\""
   ]
  },
  {
   "cell_type": "code",
   "execution_count": 9,
   "metadata": {},
   "outputs": [],
   "source": [
    "# Set is_youtube_url True while streaming from youtube url\n",
    "is_youtube_url = False\n",
    "languageCode = \"en-Us\"\n",
    "sampleRate = \"44100\"\n",
    "encoding = \"wav\""
   ]
  },
  {
   "cell_type": "code",
   "execution_count": 10,
   "metadata": {},
   "outputs": [],
   "source": [
    "# DeepAffects realtime Api client\n",
    "client = get_deepaffects_client()"
   ]
  },
  {
   "cell_type": "code",
   "execution_count": 11,
   "metadata": {},
   "outputs": [],
   "source": [
    "metadata = [\n",
    "    ('apikey', apikey),\n",
    "    ('encoding', encoding),\n",
    "    ('samplerate', sampleRate),\n",
    "    ('languagecode', languageCode)\n",
    "]"
   ]
  },
  {
   "cell_type": "code",
   "execution_count": 12,
   "metadata": {},
   "outputs": [
    {
     "name": "stdout",
     "output_type": "stream",
     "text": [
      "Sending chunk 0 - with size :- 3.994 sec\n",
      "Received message end: 3.0\n",
      "emotion: \"anger\"\n",
      "\n",
      "Received message start: 3.0\n",
      "end: 4.0\n",
      "emotion: \"excited\"\n",
      "\n"
     ]
    }
   ],
   "source": [
    "responses = client.IdentifyEmotion(\n",
    "    # Use chunk_generator_from_file generator to stream from local file\n",
    "    chunk_generator_from_file(file_path),\n",
    "    # Use chunk_generator_from_url generator to stream from remote url or youtube with is_youtube_url set to true\n",
    "    # chunk_generator_from_url(file_path, is_youtube_url=is_youtube_url),\n",
    "     TIMEOUT_SECONDS, metadata=metadata)\n",
    "\n",
    "# responses is the iterator for all the response values\n",
    "for response in responses:\n",
    "    print(\"Received message\",response)"
   ]
  },
  {
   "cell_type": "code",
   "execution_count": null,
   "metadata": {},
   "outputs": [],
   "source": []
  }
 ],
 "metadata": {
  "kernelspec": {
   "display_name": "py3env",
   "language": "python",
   "name": "py3env"
  },
  "language_info": {
   "codemirror_mode": {
    "name": "ipython",
    "version": 3
   },
   "file_extension": ".py",
   "mimetype": "text/x-python",
   "name": "python",
   "nbconvert_exporter": "python",
   "pygments_lexer": "ipython3",
   "version": "3.6.7"
  }
 },
 "nbformat": 4,
 "nbformat_minor": 2
}
