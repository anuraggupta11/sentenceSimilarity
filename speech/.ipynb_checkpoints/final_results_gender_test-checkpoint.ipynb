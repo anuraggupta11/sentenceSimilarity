{
 "cells": [
  {
   "cell_type": "markdown",
   "metadata": {},
   "source": [
    "## Importing the required libraries"
   ]
  },
  {
   "cell_type": "code",
   "execution_count": 1,
   "metadata": {},
   "outputs": [
    {
     "name": "stdout",
     "output_type": "stream",
     "text": [
      "\n",
      "Welcome to Python 3.6's help utility!\n",
      "\n",
      "If this is your first time using Python, you should definitely check out\n",
      "the tutorial on the Internet at https://docs.python.org/3.6/tutorial/.\n",
      "\n",
      "Enter the name of any module, keyword, or topic to get help on writing\n",
      "Python programs and using Python modules.  To quit this help utility and\n",
      "return to the interpreter, just type \"quit\".\n",
      "\n",
      "To get a list of available modules, keywords, symbols, or topics, type\n",
      "\"modules\", \"keywords\", \"symbols\", or \"topics\".  Each module also comes\n",
      "with a one-line summary of what it does; to list the modules whose name\n",
      "or summary contain a given string such as \"spam\", type \"modules spam\".\n",
      "\n",
      "help> q\n",
      "\n",
      "You are now leaving help and returning to the Python interpreter.\n",
      "If you want to ask for help on a particular object directly from the\n",
      "interpreter, you can type \"help(object)\".  Executing \"help('string')\"\n",
      "has the same effect as typing a particular string at the help> prompt.\n"
     ]
    },
    {
     "name": "stderr",
     "output_type": "stream",
     "text": [
      "Using TensorFlow backend.\n"
     ]
    }
   ],
   "source": [
    "import librosa\n",
    "import librosa.display\n",
    "import numpy as np\n",
    "import matplotlib.pyplot as plt\n",
    "import tensorflow as tf\n",
    "from matplotlib.pyplot import specgram\n",
    "import keras\n",
    "from keras.preprocessing import sequence\n",
    "from keras.models import Sequential\n",
    "from keras.layers import Dense, Embedding\n",
    "from keras.layers import LSTM\n",
    "from keras.preprocessing.text import Tokenizer\n",
    "from keras.preprocessing.sequence import pad_sequences\n",
    "from keras.utils import to_categorical\n",
    "from keras.layers import Input, Flatten, Dropout, Activation\n",
    "from keras.layers import Conv1D, MaxPooling1D, AveragePooling1D\n",
    "from keras.models import Model\n",
    "from keras.callbacks import ModelCheckpoint\n",
    "from sklearn.metrics import confusion_matrix"
   ]
  },
  {
   "cell_type": "code",
   "execution_count": 4,
   "metadata": {},
   "outputs": [],
   "source": [
    "from keras import regularizers"
   ]
  },
  {
   "cell_type": "code",
   "execution_count": 5,
   "metadata": {},
   "outputs": [],
   "source": [
    "import os"
   ]
  },
  {
   "cell_type": "markdown",
   "metadata": {},
   "source": [
    "## Filename identifiers \n",
    "\n",
    "* Modality (01 = full-AV, 02 = video-only, 03 = audio-only).\n",
    "* Vocal channel (01 = speech, 02 = song).\n",
    "* Emotion (01 = neutral, 02 = calm, 03 = happy, 04 = sad, 05 = angry, 06 = fearful, 07 = disgust, 08 = surprised).\n",
    "* Emotional intensity (01 = normal, 02 = strong). NOTE: There is no strong intensity for the 'neutral' emotion.\n",
    "* Statement (01 = \"Kids are talking by the door\", 02 = \"Dogs are sitting by the door\").\n",
    "* Repetition (01 = 1st repetition, 02 = 2nd repetition).\n",
    "* Actor (01 to 24. Odd numbered actors are male, even numbered actors are female)."
   ]
  },
  {
   "cell_type": "code",
   "execution_count": 21,
   "metadata": {},
   "outputs": [],
   "source": [
    "mylist= os.listdir('RawData/')"
   ]
  },
  {
   "cell_type": "code",
   "execution_count": 22,
   "metadata": {},
   "outputs": [
    {
     "data": {
      "text/plain": [
       "list"
      ]
     },
     "execution_count": 22,
     "metadata": {},
     "output_type": "execute_result"
    }
   ],
   "source": [
    "type(mylist)"
   ]
  },
  {
   "cell_type": "code",
   "execution_count": 23,
   "metadata": {},
   "outputs": [
    {
     "name": "stdout",
     "output_type": "stream",
     "text": [
      "03-01-03-01-01-01-16.wav\n"
     ]
    }
   ],
   "source": [
    "print(mylist[1400])"
   ]
  },
  {
   "cell_type": "code",
   "execution_count": 24,
   "metadata": {},
   "outputs": [
    {
     "name": "stdout",
     "output_type": "stream",
     "text": [
      "03\n"
     ]
    }
   ],
   "source": [
    "print(mylist[1400][6:-16])"
   ]
  },
  {
   "cell_type": "markdown",
   "metadata": {},
   "source": [
    "## Plotting the audio file's waveform and its spectrogram"
   ]
  },
  {
   "cell_type": "code",
   "execution_count": 42,
   "metadata": {},
   "outputs": [],
   "source": [
    "data, sampling_rate = librosa.load('RawData/03-01-03-01-01-01-16.wav', sr=None)"
   ]
  },
  {
   "cell_type": "code",
   "execution_count": 43,
   "metadata": {},
   "outputs": [
    {
     "data": {
      "text/plain": [
       "<matplotlib.collections.PolyCollection at 0x7fe176376dd8>"
      ]
     },
     "execution_count": 43,
     "metadata": {},
     "output_type": "execute_result"
    },
    {
     "data": {
      "image/png": "[encoded data removed]",
      "text/plain": [
       "<Figure size 1080x360 with 1 Axes>"
      ]
     },
     "metadata": {
      "needs_background": "light"
     },
     "output_type": "display_data"
    }
   ],
   "source": [
    "#% pylab inline\n",
    "import os\n",
    "import pandas as pd\n",
    "import librosa\n",
    "import glob \n",
    "\n",
    "plt.figure(figsize=(15, 5))\n",
    "librosa.display.waveplot(data, sr=sampling_rate)"
   ]
  },
  {
   "cell_type": "code",
   "execution_count": 47,
   "metadata": {},
   "outputs": [
    {
     "name": "stdout",
     "output_type": "stream",
     "text": [
      "177778\n"
     ]
    },
    {
     "name": "stderr",
     "output_type": "stream",
     "text": [
      "/home/absin/git/sematicSimilarity/venv/lib/python3.6/site-packages/ipykernel_launcher.py:26: RuntimeWarning: divide by zero encountered in log\n"
     ]
    },
    {
     "data": {
      "image/png": "[encoded data removed]",
      "text/plain": [
       "<Figure size 432x288 with 1 Axes>"
      ]
     },
     "metadata": {
      "needs_background": "light"
     },
     "output_type": "display_data"
    }
   ],
   "source": [
    "import matplotlib.pyplot as plt\n",
    "import scipy.io.wavfile\n",
    "import numpy as np\n",
    "import sys\n",
    "\n",
    "\n",
    "sr,x = scipy.io.wavfile.read('RawData/03-01-03-01-01-01-16.wav')\n",
    "\n",
    "## Parameters: 10ms step, 30ms window\n",
    "nstep = int(sr * 0.01)\n",
    "nwin  = int(sr * 0.03)\n",
    "nfft = nwin\n",
    "\n",
    "window = np.hamming(nwin)\n",
    "\n",
    "## will take windows x[n1:n2].  generate\n",
    "## and loop over n2 such that all frames\n",
    "## fit within the waveform\n",
    "nn = range(nwin, len(x), nstep)\n",
    "\n",
    "X = np.zeros( (len(nn), nfft//2) )\n",
    "\n",
    "for i,n in enumerate(nn):\n",
    "    xseg = x[n-nwin:n]\n",
    "    z = np.fft.fft(window * xseg, nfft)\n",
    "    X[i,:] = np.log(np.abs(z[:nfft//2]))\n",
    "\n",
    "plt.imshow(X.T, interpolation='nearest',\n",
    "    origin='lower',\n",
    "    aspect='auto')\n",
    "\n",
    "plt.show()"
   ]
  },
  {
   "cell_type": "markdown",
   "metadata": {},
   "source": [
    "## Setting the labels"
   ]
  },
  {
   "cell_type": "code",
   "execution_count": 11,
   "metadata": {
    "collapsed": true
   },
   "outputs": [],
   "source": [
    "feeling_list=[]\n",
    "for item in mylist:\n",
    "    if item[6:-16]=='02' and int(item[18:-4])%2==0:\n",
    "        feeling_list.append('female_calm')\n",
    "    elif item[6:-16]=='02' and int(item[18:-4])%2==1:\n",
    "        feeling_list.append('male_calm')\n",
    "    elif item[6:-16]=='03' and int(item[18:-4])%2==0:\n",
    "        feeling_list.append('female_happy')\n",
    "    elif item[6:-16]=='03' and int(item[18:-4])%2==1:\n",
    "        feeling_list.append('male_happy')\n",
    "    elif item[6:-16]=='04' and int(item[18:-4])%2==0:\n",
    "        feeling_list.append('female_sad')\n",
    "    elif item[6:-16]=='04' and int(item[18:-4])%2==1:\n",
    "        feeling_list.append('male_sad')\n",
    "    elif item[6:-16]=='05' and int(item[18:-4])%2==0:\n",
    "        feeling_list.append('female_angry')\n",
    "    elif item[6:-16]=='05' and int(item[18:-4])%2==1:\n",
    "        feeling_list.append('male_angry')\n",
    "    elif item[6:-16]=='06' and int(item[18:-4])%2==0:\n",
    "        feeling_list.append('female_fearful')\n",
    "    elif item[6:-16]=='06' and int(item[18:-4])%2==1:\n",
    "        feeling_list.append('male_fearful')\n",
    "    elif item[:1]=='a':\n",
    "        feeling_list.append('male_angry')\n",
    "    elif item[:1]=='f':\n",
    "        feeling_list.append('male_fearful')\n",
    "    elif item[:1]=='h':\n",
    "        feeling_list.append('male_happy')\n",
    "    #elif item[:1]=='n':\n",
    "        #feeling_list.append('neutral')\n",
    "    elif item[:2]=='sa':\n",
    "        feeling_list.append('male_sad')"
   ]
  },
  {
   "cell_type": "code",
   "execution_count": 12,
   "metadata": {
    "collapsed": true
   },
   "outputs": [],
   "source": [
    "labels = pd.DataFrame(feeling_list)"
   ]
  },
  {
   "cell_type": "code",
   "execution_count": 13,
   "metadata": {
    "scrolled": true
   },
   "outputs": [
    {
     "data": {
      "text/html": [
       "<div>\n",
       "<style>\n",
       "    .dataframe thead tr:only-child th {\n",
       "        text-align: right;\n",
       "    }\n",
       "\n",
       "    .dataframe thead th {\n",
       "        text-align: left;\n",
       "    }\n",
       "\n",
       "    .dataframe tbody tr th {\n",
       "        vertical-align: top;\n",
       "    }\n",
       "</style>\n",
       "<table border=\"1\" class=\"dataframe\">\n",
       "  <thead>\n",
       "    <tr style=\"text-align: right;\">\n",
       "      <th></th>\n",
       "      <th>0</th>\n",
       "    </tr>\n",
       "  </thead>\n",
       "  <tbody>\n",
       "    <tr>\n",
       "      <th>0</th>\n",
       "      <td>male_calm</td>\n",
       "    </tr>\n",
       "    <tr>\n",
       "      <th>1</th>\n",
       "      <td>female_calm</td>\n",
       "    </tr>\n",
       "    <tr>\n",
       "      <th>2</th>\n",
       "      <td>male_calm</td>\n",
       "    </tr>\n",
       "    <tr>\n",
       "      <th>3</th>\n",
       "      <td>female_calm</td>\n",
       "    </tr>\n",
       "    <tr>\n",
       "      <th>4</th>\n",
       "      <td>male_calm</td>\n",
       "    </tr>\n",
       "    <tr>\n",
       "      <th>5</th>\n",
       "      <td>female_calm</td>\n",
       "    </tr>\n",
       "    <tr>\n",
       "      <th>6</th>\n",
       "      <td>male_calm</td>\n",
       "    </tr>\n",
       "    <tr>\n",
       "      <th>7</th>\n",
       "      <td>female_calm</td>\n",
       "    </tr>\n",
       "    <tr>\n",
       "      <th>8</th>\n",
       "      <td>male_calm</td>\n",
       "    </tr>\n",
       "    <tr>\n",
       "      <th>9</th>\n",
       "      <td>female_calm</td>\n",
       "    </tr>\n",
       "  </tbody>\n",
       "</table>\n",
       "</div>"
      ],
      "text/plain": [
       "             0\n",
       "0    male_calm\n",
       "1  female_calm\n",
       "2    male_calm\n",
       "3  female_calm\n",
       "4    male_calm\n",
       "5  female_calm\n",
       "6    male_calm\n",
       "7  female_calm\n",
       "8    male_calm\n",
       "9  female_calm"
      ]
     },
     "execution_count": 13,
     "metadata": {},
     "output_type": "execute_result"
    }
   ],
   "source": [
    "labels[:10]"
   ]
  },
  {
   "cell_type": "markdown",
   "metadata": {},
   "source": [
    "## Getting the features of audio files using librosa"
   ]
  },
  {
   "cell_type": "code",
   "execution_count": 14,
   "metadata": {
    "collapsed": true
   },
   "outputs": [],
   "source": [
    "df = pd.DataFrame(columns=['feature'])\n",
    "bookmark=0\n",
    "for index,y in enumerate(mylist):\n",
    "    if mylist[index][6:-16]!='01' and mylist[index][6:-16]!='07' and mylist[index][6:-16]!='08' and mylist[index][:2]!='su' and mylist[index][:1]!='n' and mylist[index][:1]!='d':\n",
    "        X, sample_rate = librosa.load('RawData/'+y, res_type='kaiser_fast',duration=2.5,sr=22050*2,offset=0.5)\n",
    "        sample_rate = np.array(sample_rate)\n",
    "        mfccs = np.mean(librosa.feature.mfcc(y=X, \n",
    "                                            sr=sample_rate, \n",
    "                                            n_mfcc=13),\n",
    "                        axis=0)\n",
    "        feature = mfccs\n",
    "        #[float(i) for i in feature]\n",
    "        #feature1=feature[:135]\n",
    "        df.loc[bookmark] = [feature]\n",
    "        bookmark=bookmark+1        "
   ]
  },
  {
   "cell_type": "code",
   "execution_count": 15,
   "metadata": {},
   "outputs": [
    {
     "data": {
      "text/html": [
       "<div>\n",
       "<style>\n",
       "    .dataframe thead tr:only-child th {\n",
       "        text-align: right;\n",
       "    }\n",
       "\n",
       "    .dataframe thead th {\n",
       "        text-align: left;\n",
       "    }\n",
       "\n",
       "    .dataframe tbody tr th {\n",
       "        vertical-align: top;\n",
       "    }\n",
       "</style>\n",
       "<table border=\"1\" class=\"dataframe\">\n",
       "  <thead>\n",
       "    <tr style=\"text-align: right;\">\n",
       "      <th></th>\n",
       "      <th>feature</th>\n",
       "    </tr>\n",
       "  </thead>\n",
       "  <tbody>\n",
       "    <tr>\n",
       "      <th>0</th>\n",
       "      <td>[-70.2677641611, -70.2677641611, -70.267764161...</td>\n",
       "    </tr>\n",
       "    <tr>\n",
       "      <th>1</th>\n",
       "      <td>[-65.7076524007, -65.7076524007, -63.114722422...</td>\n",
       "    </tr>\n",
       "    <tr>\n",
       "      <th>2</th>\n",
       "      <td>[-65.4824988827, -65.4824988827, -65.482498882...</td>\n",
       "    </tr>\n",
       "    <tr>\n",
       "      <th>3</th>\n",
       "      <td>[-64.5284491035, -64.5284491035, -64.528449103...</td>\n",
       "    </tr>\n",
       "    <tr>\n",
       "      <th>4</th>\n",
       "      <td>[-62.3643105275, -59.9347251381, -61.869599961...</td>\n",
       "    </tr>\n",
       "  </tbody>\n",
       "</table>\n",
       "</div>"
      ],
      "text/plain": [
       "                                             feature\n",
       "0  [-70.2677641611, -70.2677641611, -70.267764161...\n",
       "1  [-65.7076524007, -65.7076524007, -63.114722422...\n",
       "2  [-65.4824988827, -65.4824988827, -65.482498882...\n",
       "3  [-64.5284491035, -64.5284491035, -64.528449103...\n",
       "4  [-62.3643105275, -59.9347251381, -61.869599961..."
      ]
     },
     "execution_count": 15,
     "metadata": {},
     "output_type": "execute_result"
    }
   ],
   "source": [
    "df[:5]"
   ]
  },
  {
   "cell_type": "code",
   "execution_count": 16,
   "metadata": {
    "collapsed": true
   },
   "outputs": [],
   "source": [
    "df3 = pd.DataFrame(df['feature'].values.tolist())"
   ]
  },
  {
   "cell_type": "markdown",
   "metadata": {},
   "source": [
    "df3[:5]"
   ]
  },
  {
   "cell_type": "code",
   "execution_count": 17,
   "metadata": {
    "collapsed": true
   },
   "outputs": [],
   "source": [
    "newdf = pd.concat([df3,labels], axis=1)"
   ]
  },
  {
   "cell_type": "code",
   "execution_count": 18,
   "metadata": {
    "collapsed": true
   },
   "outputs": [],
   "source": [
    "rnewdf = newdf.rename(index=str, columns={\"0\": \"label\"})"
   ]
  },
  {
   "cell_type": "code",
   "execution_count": 19,
   "metadata": {},
   "outputs": [
    {
     "data": {
      "text/html": [
       "<div>\n",
       "<style>\n",
       "    .dataframe thead tr:only-child th {\n",
       "        text-align: right;\n",
       "    }\n",
       "\n",
       "    .dataframe thead th {\n",
       "        text-align: left;\n",
       "    }\n",
       "\n",
       "    .dataframe tbody tr th {\n",
       "        vertical-align: top;\n",
       "    }\n",
       "</style>\n",
       "<table border=\"1\" class=\"dataframe\">\n",
       "  <thead>\n",
       "    <tr style=\"text-align: right;\">\n",
       "      <th></th>\n",
       "      <th>0</th>\n",
       "      <th>1</th>\n",
       "      <th>2</th>\n",
       "      <th>3</th>\n",
       "      <th>4</th>\n",
       "      <th>5</th>\n",
       "      <th>6</th>\n",
       "      <th>7</th>\n",
       "      <th>8</th>\n",
       "      <th>9</th>\n",
       "      <th>...</th>\n",
       "      <th>207</th>\n",
       "      <th>208</th>\n",
       "      <th>209</th>\n",
       "      <th>210</th>\n",
       "      <th>211</th>\n",
       "      <th>212</th>\n",
       "      <th>213</th>\n",
       "      <th>214</th>\n",
       "      <th>215</th>\n",
       "      <th>0</th>\n",
       "    </tr>\n",
       "  </thead>\n",
       "  <tbody>\n",
       "    <tr>\n",
       "      <th>0</th>\n",
       "      <td>-70.267764</td>\n",
       "      <td>-70.267764</td>\n",
       "      <td>-70.267764</td>\n",
       "      <td>-70.267764</td>\n",
       "      <td>-70.267764</td>\n",
       "      <td>-70.267764</td>\n",
       "      <td>-70.267764</td>\n",
       "      <td>-70.267764</td>\n",
       "      <td>-70.267764</td>\n",
       "      <td>-70.267764</td>\n",
       "      <td>...</td>\n",
       "      <td>-57.447461</td>\n",
       "      <td>-58.896493</td>\n",
       "      <td>-58.751002</td>\n",
       "      <td>-57.405669</td>\n",
       "      <td>-60.078475</td>\n",
       "      <td>-63.426811</td>\n",
       "      <td>-62.638537</td>\n",
       "      <td>-61.116223</td>\n",
       "      <td>-60.357015</td>\n",
       "      <td>male_calm</td>\n",
       "    </tr>\n",
       "    <tr>\n",
       "      <th>1</th>\n",
       "      <td>-65.707652</td>\n",
       "      <td>-65.707652</td>\n",
       "      <td>-63.114722</td>\n",
       "      <td>-61.518999</td>\n",
       "      <td>-61.097138</td>\n",
       "      <td>-63.424602</td>\n",
       "      <td>-63.720067</td>\n",
       "      <td>-56.854608</td>\n",
       "      <td>-55.168972</td>\n",
       "      <td>-54.640002</td>\n",
       "      <td>...</td>\n",
       "      <td>-39.792147</td>\n",
       "      <td>-40.613166</td>\n",
       "      <td>-41.209201</td>\n",
       "      <td>-41.439204</td>\n",
       "      <td>-43.994282</td>\n",
       "      <td>-49.399616</td>\n",
       "      <td>-50.591601</td>\n",
       "      <td>-49.146184</td>\n",
       "      <td>-48.687893</td>\n",
       "      <td>female_calm</td>\n",
       "    </tr>\n",
       "    <tr>\n",
       "      <th>2</th>\n",
       "      <td>-65.482499</td>\n",
       "      <td>-65.482499</td>\n",
       "      <td>-65.482499</td>\n",
       "      <td>-65.482499</td>\n",
       "      <td>-65.482499</td>\n",
       "      <td>-65.482499</td>\n",
       "      <td>-65.482499</td>\n",
       "      <td>-65.482499</td>\n",
       "      <td>-65.482499</td>\n",
       "      <td>-65.482499</td>\n",
       "      <td>...</td>\n",
       "      <td>-31.346553</td>\n",
       "      <td>-34.310774</td>\n",
       "      <td>-35.800705</td>\n",
       "      <td>-35.936112</td>\n",
       "      <td>-37.631846</td>\n",
       "      <td>-40.119408</td>\n",
       "      <td>-41.662903</td>\n",
       "      <td>-41.333382</td>\n",
       "      <td>-40.721261</td>\n",
       "      <td>male_calm</td>\n",
       "    </tr>\n",
       "    <tr>\n",
       "      <th>3</th>\n",
       "      <td>-64.528449</td>\n",
       "      <td>-64.528449</td>\n",
       "      <td>-64.528449</td>\n",
       "      <td>-64.528449</td>\n",
       "      <td>-64.528449</td>\n",
       "      <td>-64.528449</td>\n",
       "      <td>-64.528449</td>\n",
       "      <td>-64.528449</td>\n",
       "      <td>-64.528449</td>\n",
       "      <td>-65.928222</td>\n",
       "      <td>...</td>\n",
       "      <td>-48.674306</td>\n",
       "      <td>-48.596082</td>\n",
       "      <td>-47.602751</td>\n",
       "      <td>-43.049195</td>\n",
       "      <td>-42.659546</td>\n",
       "      <td>-43.188561</td>\n",
       "      <td>-44.001237</td>\n",
       "      <td>-43.512184</td>\n",
       "      <td>-43.644038</td>\n",
       "      <td>female_calm</td>\n",
       "    </tr>\n",
       "    <tr>\n",
       "      <th>4</th>\n",
       "      <td>-62.364311</td>\n",
       "      <td>-59.934725</td>\n",
       "      <td>-61.869600</td>\n",
       "      <td>-67.495764</td>\n",
       "      <td>-71.071811</td>\n",
       "      <td>-65.679826</td>\n",
       "      <td>-63.394396</td>\n",
       "      <td>-65.503349</td>\n",
       "      <td>-61.856639</td>\n",
       "      <td>-60.005421</td>\n",
       "      <td>...</td>\n",
       "      <td>-39.071328</td>\n",
       "      <td>-41.897121</td>\n",
       "      <td>-40.865430</td>\n",
       "      <td>-38.290605</td>\n",
       "      <td>-36.372397</td>\n",
       "      <td>-37.915779</td>\n",
       "      <td>-40.026125</td>\n",
       "      <td>-43.386896</td>\n",
       "      <td>-44.065982</td>\n",
       "      <td>male_calm</td>\n",
       "    </tr>\n",
       "  </tbody>\n",
       "</table>\n",
       "<p>5 rows × 217 columns</p>\n",
       "</div>"
      ],
      "text/plain": [
       "         0          1          2          3          4          5    \\\n",
       "0 -70.267764 -70.267764 -70.267764 -70.267764 -70.267764 -70.267764   \n",
       "1 -65.707652 -65.707652 -63.114722 -61.518999 -61.097138 -63.424602   \n",
       "2 -65.482499 -65.482499 -65.482499 -65.482499 -65.482499 -65.482499   \n",
       "3 -64.528449 -64.528449 -64.528449 -64.528449 -64.528449 -64.528449   \n",
       "4 -62.364311 -59.934725 -61.869600 -67.495764 -71.071811 -65.679826   \n",
       "\n",
       "         6          7          8          9       ...             207  \\\n",
       "0 -70.267764 -70.267764 -70.267764 -70.267764     ...      -57.447461   \n",
       "1 -63.720067 -56.854608 -55.168972 -54.640002     ...      -39.792147   \n",
       "2 -65.482499 -65.482499 -65.482499 -65.482499     ...      -31.346553   \n",
       "3 -64.528449 -64.528449 -64.528449 -65.928222     ...      -48.674306   \n",
       "4 -63.394396 -65.503349 -61.856639 -60.005421     ...      -39.071328   \n",
       "\n",
       "         208        209        210        211        212        213  \\\n",
       "0 -58.896493 -58.751002 -57.405669 -60.078475 -63.426811 -62.638537   \n",
       "1 -40.613166 -41.209201 -41.439204 -43.994282 -49.399616 -50.591601   \n",
       "2 -34.310774 -35.800705 -35.936112 -37.631846 -40.119408 -41.662903   \n",
       "3 -48.596082 -47.602751 -43.049195 -42.659546 -43.188561 -44.001237   \n",
       "4 -41.897121 -40.865430 -38.290605 -36.372397 -37.915779 -40.026125   \n",
       "\n",
       "         214        215          0    \n",
       "0 -61.116223 -60.357015    male_calm  \n",
       "1 -49.146184 -48.687893  female_calm  \n",
       "2 -41.333382 -40.721261    male_calm  \n",
       "3 -43.512184 -43.644038  female_calm  \n",
       "4 -43.386896 -44.065982    male_calm  \n",
       "\n",
       "[5 rows x 217 columns]"
      ]
     },
     "execution_count": 19,
     "metadata": {},
     "output_type": "execute_result"
    }
   ],
   "source": [
    "rnewdf[:5]"
   ]
  },
  {
   "cell_type": "code",
   "execution_count": 20,
   "metadata": {},
   "outputs": [
    {
     "data": {
      "text/html": [
       "<div>\n",
       "<style>\n",
       "    .dataframe thead tr:only-child th {\n",
       "        text-align: right;\n",
       "    }\n",
       "\n",
       "    .dataframe thead th {\n",
       "        text-align: left;\n",
       "    }\n",
       "\n",
       "    .dataframe tbody tr th {\n",
       "        vertical-align: top;\n",
       "    }\n",
       "</style>\n",
       "<table border=\"1\" class=\"dataframe\">\n",
       "  <thead>\n",
       "    <tr style=\"text-align: right;\">\n",
       "      <th></th>\n",
       "      <th>0</th>\n",
       "      <th>1</th>\n",
       "      <th>2</th>\n",
       "      <th>3</th>\n",
       "      <th>4</th>\n",
       "      <th>5</th>\n",
       "      <th>6</th>\n",
       "      <th>7</th>\n",
       "      <th>8</th>\n",
       "      <th>9</th>\n",
       "      <th>...</th>\n",
       "      <th>207</th>\n",
       "      <th>208</th>\n",
       "      <th>209</th>\n",
       "      <th>210</th>\n",
       "      <th>211</th>\n",
       "      <th>212</th>\n",
       "      <th>213</th>\n",
       "      <th>214</th>\n",
       "      <th>215</th>\n",
       "      <th>0</th>\n",
       "    </tr>\n",
       "  </thead>\n",
       "  <tbody>\n",
       "    <tr>\n",
       "      <th>1130</th>\n",
       "      <td>-21.316034</td>\n",
       "      <td>-21.405165</td>\n",
       "      <td>-23.427492</td>\n",
       "      <td>-22.760799</td>\n",
       "      <td>-23.077980</td>\n",
       "      <td>-22.940379</td>\n",
       "      <td>-22.521370</td>\n",
       "      <td>-22.318232</td>\n",
       "      <td>-23.623762</td>\n",
       "      <td>-22.484483</td>\n",
       "      <td>...</td>\n",
       "      <td>-30.090434</td>\n",
       "      <td>-25.397213</td>\n",
       "      <td>-24.566368</td>\n",
       "      <td>-25.313775</td>\n",
       "      <td>-27.188736</td>\n",
       "      <td>-27.189815</td>\n",
       "      <td>-26.741160</td>\n",
       "      <td>-24.144054</td>\n",
       "      <td>-21.752971</td>\n",
       "      <td>male_angry</td>\n",
       "    </tr>\n",
       "    <tr>\n",
       "      <th>1611</th>\n",
       "      <td>-28.023489</td>\n",
       "      <td>-27.012539</td>\n",
       "      <td>-24.843077</td>\n",
       "      <td>-26.073845</td>\n",
       "      <td>-26.605960</td>\n",
       "      <td>-25.415706</td>\n",
       "      <td>-26.137463</td>\n",
       "      <td>-25.882579</td>\n",
       "      <td>-26.144014</td>\n",
       "      <td>-25.486000</td>\n",
       "      <td>...</td>\n",
       "      <td>-9.060266</td>\n",
       "      <td>-10.795528</td>\n",
       "      <td>-11.224794</td>\n",
       "      <td>-10.564187</td>\n",
       "      <td>-10.653920</td>\n",
       "      <td>-10.423875</td>\n",
       "      <td>-10.612708</td>\n",
       "      <td>-9.730200</td>\n",
       "      <td>-6.192753</td>\n",
       "      <td>male_sad</td>\n",
       "    </tr>\n",
       "    <tr>\n",
       "      <th>606</th>\n",
       "      <td>-47.580376</td>\n",
       "      <td>-47.580376</td>\n",
       "      <td>-47.580376</td>\n",
       "      <td>-47.580376</td>\n",
       "      <td>-47.580376</td>\n",
       "      <td>-47.580376</td>\n",
       "      <td>-47.580376</td>\n",
       "      <td>-47.580376</td>\n",
       "      <td>-47.580376</td>\n",
       "      <td>-47.580376</td>\n",
       "      <td>...</td>\n",
       "      <td>-17.349710</td>\n",
       "      <td>-17.208624</td>\n",
       "      <td>-17.796563</td>\n",
       "      <td>-17.936725</td>\n",
       "      <td>-17.350310</td>\n",
       "      <td>-17.991303</td>\n",
       "      <td>-18.088496</td>\n",
       "      <td>-19.591927</td>\n",
       "      <td>-19.046431</td>\n",
       "      <td>male_angry</td>\n",
       "    </tr>\n",
       "    <tr>\n",
       "      <th>1356</th>\n",
       "      <td>-24.687263</td>\n",
       "      <td>-23.900377</td>\n",
       "      <td>-22.685773</td>\n",
       "      <td>-23.947191</td>\n",
       "      <td>-25.353984</td>\n",
       "      <td>-25.198551</td>\n",
       "      <td>-26.250432</td>\n",
       "      <td>-26.599865</td>\n",
       "      <td>-27.327227</td>\n",
       "      <td>-26.959255</td>\n",
       "      <td>...</td>\n",
       "      <td>-2.508218</td>\n",
       "      <td>-2.625317</td>\n",
       "      <td>-3.431428</td>\n",
       "      <td>-5.119769</td>\n",
       "      <td>-7.367091</td>\n",
       "      <td>-8.972608</td>\n",
       "      <td>-10.649444</td>\n",
       "      <td>-14.163026</td>\n",
       "      <td>-18.706701</td>\n",
       "      <td>male_happy</td>\n",
       "    </tr>\n",
       "    <tr>\n",
       "      <th>535</th>\n",
       "      <td>-59.254190</td>\n",
       "      <td>-55.769097</td>\n",
       "      <td>-53.499152</td>\n",
       "      <td>-53.206541</td>\n",
       "      <td>-51.857334</td>\n",
       "      <td>-51.743066</td>\n",
       "      <td>-53.126957</td>\n",
       "      <td>-53.163642</td>\n",
       "      <td>-53.088024</td>\n",
       "      <td>-54.972413</td>\n",
       "      <td>...</td>\n",
       "      <td>-52.252787</td>\n",
       "      <td>-50.024027</td>\n",
       "      <td>-50.142246</td>\n",
       "      <td>-50.522777</td>\n",
       "      <td>-51.571928</td>\n",
       "      <td>-50.673416</td>\n",
       "      <td>-51.651291</td>\n",
       "      <td>-52.595671</td>\n",
       "      <td>-50.934325</td>\n",
       "      <td>female_sad</td>\n",
       "    </tr>\n",
       "    <tr>\n",
       "      <th>1397</th>\n",
       "      <td>-13.596653</td>\n",
       "      <td>-17.466871</td>\n",
       "      <td>-26.128334</td>\n",
       "      <td>-27.447346</td>\n",
       "      <td>-28.217343</td>\n",
       "      <td>-28.169207</td>\n",
       "      <td>-28.163326</td>\n",
       "      <td>-29.641523</td>\n",
       "      <td>-30.600591</td>\n",
       "      <td>-31.308342</td>\n",
       "      <td>...</td>\n",
       "      <td>-39.573127</td>\n",
       "      <td>-38.788175</td>\n",
       "      <td>-38.404735</td>\n",
       "      <td>-41.522524</td>\n",
       "      <td>NaN</td>\n",
       "      <td>NaN</td>\n",
       "      <td>NaN</td>\n",
       "      <td>NaN</td>\n",
       "      <td>NaN</td>\n",
       "      <td>male_happy</td>\n",
       "    </tr>\n",
       "    <tr>\n",
       "      <th>813</th>\n",
       "      <td>-57.705173</td>\n",
       "      <td>-57.728170</td>\n",
       "      <td>-56.672727</td>\n",
       "      <td>-56.152195</td>\n",
       "      <td>-57.413794</td>\n",
       "      <td>-58.473491</td>\n",
       "      <td>-58.040922</td>\n",
       "      <td>-57.550879</td>\n",
       "      <td>-58.224060</td>\n",
       "      <td>-56.276742</td>\n",
       "      <td>...</td>\n",
       "      <td>-52.148175</td>\n",
       "      <td>-52.575092</td>\n",
       "      <td>-52.733973</td>\n",
       "      <td>-53.780274</td>\n",
       "      <td>-54.433161</td>\n",
       "      <td>-57.540984</td>\n",
       "      <td>-57.138044</td>\n",
       "      <td>-55.263390</td>\n",
       "      <td>-54.655835</td>\n",
       "      <td>female_fearful</td>\n",
       "    </tr>\n",
       "    <tr>\n",
       "      <th>1538</th>\n",
       "      <td>-29.934310</td>\n",
       "      <td>-31.293358</td>\n",
       "      <td>-32.880679</td>\n",
       "      <td>-34.448076</td>\n",
       "      <td>-35.698980</td>\n",
       "      <td>-38.608411</td>\n",
       "      <td>-40.439090</td>\n",
       "      <td>-40.267872</td>\n",
       "      <td>-41.617890</td>\n",
       "      <td>-44.013965</td>\n",
       "      <td>...</td>\n",
       "      <td>-43.273342</td>\n",
       "      <td>-37.321326</td>\n",
       "      <td>-30.551111</td>\n",
       "      <td>-27.834584</td>\n",
       "      <td>-26.978020</td>\n",
       "      <td>-27.281610</td>\n",
       "      <td>-27.756957</td>\n",
       "      <td>-25.164714</td>\n",
       "      <td>-19.921744</td>\n",
       "      <td>male_sad</td>\n",
       "    </tr>\n",
       "    <tr>\n",
       "      <th>111</th>\n",
       "      <td>-62.748082</td>\n",
       "      <td>-62.748239</td>\n",
       "      <td>-62.759160</td>\n",
       "      <td>-62.761158</td>\n",
       "      <td>-62.758553</td>\n",
       "      <td>-62.763573</td>\n",
       "      <td>-62.760713</td>\n",
       "      <td>-62.748239</td>\n",
       "      <td>-62.748239</td>\n",
       "      <td>-62.774872</td>\n",
       "      <td>...</td>\n",
       "      <td>-39.684156</td>\n",
       "      <td>-43.283529</td>\n",
       "      <td>-44.693196</td>\n",
       "      <td>-42.968453</td>\n",
       "      <td>-41.411920</td>\n",
       "      <td>-44.474100</td>\n",
       "      <td>-46.436648</td>\n",
       "      <td>-44.232114</td>\n",
       "      <td>-41.150455</td>\n",
       "      <td>female_calm</td>\n",
       "    </tr>\n",
       "    <tr>\n",
       "      <th>1042</th>\n",
       "      <td>-25.975306</td>\n",
       "      <td>-22.825102</td>\n",
       "      <td>-21.225165</td>\n",
       "      <td>-20.821093</td>\n",
       "      <td>-19.913892</td>\n",
       "      <td>-20.578139</td>\n",
       "      <td>-22.024481</td>\n",
       "      <td>-20.963704</td>\n",
       "      <td>-14.915607</td>\n",
       "      <td>-11.356564</td>\n",
       "      <td>...</td>\n",
       "      <td>NaN</td>\n",
       "      <td>NaN</td>\n",
       "      <td>NaN</td>\n",
       "      <td>NaN</td>\n",
       "      <td>NaN</td>\n",
       "      <td>NaN</td>\n",
       "      <td>NaN</td>\n",
       "      <td>NaN</td>\n",
       "      <td>NaN</td>\n",
       "      <td>male_angry</td>\n",
       "    </tr>\n",
       "  </tbody>\n",
       "</table>\n",
       "<p>10 rows × 217 columns</p>\n",
       "</div>"
      ],
      "text/plain": [
       "            0          1          2          3          4          5    \\\n",
       "1130 -21.316034 -21.405165 -23.427492 -22.760799 -23.077980 -22.940379   \n",
       "1611 -28.023489 -27.012539 -24.843077 -26.073845 -26.605960 -25.415706   \n",
       "606  -47.580376 -47.580376 -47.580376 -47.580376 -47.580376 -47.580376   \n",
       "1356 -24.687263 -23.900377 -22.685773 -23.947191 -25.353984 -25.198551   \n",
       "535  -59.254190 -55.769097 -53.499152 -53.206541 -51.857334 -51.743066   \n",
       "1397 -13.596653 -17.466871 -26.128334 -27.447346 -28.217343 -28.169207   \n",
       "813  -57.705173 -57.728170 -56.672727 -56.152195 -57.413794 -58.473491   \n",
       "1538 -29.934310 -31.293358 -32.880679 -34.448076 -35.698980 -38.608411   \n",
       "111  -62.748082 -62.748239 -62.759160 -62.761158 -62.758553 -62.763573   \n",
       "1042 -25.975306 -22.825102 -21.225165 -20.821093 -19.913892 -20.578139   \n",
       "\n",
       "            6          7          8          9         ...              207  \\\n",
       "1130 -22.521370 -22.318232 -23.623762 -22.484483       ...       -30.090434   \n",
       "1611 -26.137463 -25.882579 -26.144014 -25.486000       ...        -9.060266   \n",
       "606  -47.580376 -47.580376 -47.580376 -47.580376       ...       -17.349710   \n",
       "1356 -26.250432 -26.599865 -27.327227 -26.959255       ...        -2.508218   \n",
       "535  -53.126957 -53.163642 -53.088024 -54.972413       ...       -52.252787   \n",
       "1397 -28.163326 -29.641523 -30.600591 -31.308342       ...       -39.573127   \n",
       "813  -58.040922 -57.550879 -58.224060 -56.276742       ...       -52.148175   \n",
       "1538 -40.439090 -40.267872 -41.617890 -44.013965       ...       -43.273342   \n",
       "111  -62.760713 -62.748239 -62.748239 -62.774872       ...       -39.684156   \n",
       "1042 -22.024481 -20.963704 -14.915607 -11.356564       ...              NaN   \n",
       "\n",
       "            208        209        210        211        212        213  \\\n",
       "1130 -25.397213 -24.566368 -25.313775 -27.188736 -27.189815 -26.741160   \n",
       "1611 -10.795528 -11.224794 -10.564187 -10.653920 -10.423875 -10.612708   \n",
       "606  -17.208624 -17.796563 -17.936725 -17.350310 -17.991303 -18.088496   \n",
       "1356  -2.625317  -3.431428  -5.119769  -7.367091  -8.972608 -10.649444   \n",
       "535  -50.024027 -50.142246 -50.522777 -51.571928 -50.673416 -51.651291   \n",
       "1397 -38.788175 -38.404735 -41.522524        NaN        NaN        NaN   \n",
       "813  -52.575092 -52.733973 -53.780274 -54.433161 -57.540984 -57.138044   \n",
       "1538 -37.321326 -30.551111 -27.834584 -26.978020 -27.281610 -27.756957   \n",
       "111  -43.283529 -44.693196 -42.968453 -41.411920 -44.474100 -46.436648   \n",
       "1042        NaN        NaN        NaN        NaN        NaN        NaN   \n",
       "\n",
       "            214        215             0    \n",
       "1130 -24.144054 -21.752971      male_angry  \n",
       "1611  -9.730200  -6.192753        male_sad  \n",
       "606  -19.591927 -19.046431      male_angry  \n",
       "1356 -14.163026 -18.706701      male_happy  \n",
       "535  -52.595671 -50.934325      female_sad  \n",
       "1397        NaN        NaN      male_happy  \n",
       "813  -55.263390 -54.655835  female_fearful  \n",
       "1538 -25.164714 -19.921744        male_sad  \n",
       "111  -44.232114 -41.150455     female_calm  \n",
       "1042        NaN        NaN      male_angry  \n",
       "\n",
       "[10 rows x 217 columns]"
      ]
     },
     "execution_count": 20,
     "metadata": {},
     "output_type": "execute_result"
    }
   ],
   "source": [
    "from sklearn.utils import shuffle\n",
    "rnewdf = shuffle(newdf)\n",
    "rnewdf[:10]"
   ]
  },
  {
   "cell_type": "code",
   "execution_count": 21,
   "metadata": {
    "collapsed": true
   },
   "outputs": [],
   "source": [
    "rnewdf=rnewdf.fillna(0)"
   ]
  },
  {
   "cell_type": "markdown",
   "metadata": {},
   "source": [
    "## Dividing the data into test and train"
   ]
  },
  {
   "cell_type": "code",
   "execution_count": 22,
   "metadata": {
    "collapsed": true
   },
   "outputs": [],
   "source": [
    "newdf1 = np.random.rand(len(rnewdf)) < 0.8\n",
    "train = rnewdf[newdf1]\n",
    "test = rnewdf[~newdf1]"
   ]
  },
  {
   "cell_type": "code",
   "execution_count": 23,
   "metadata": {},
   "outputs": [
    {
     "data": {
      "text/html": [
       "<div>\n",
       "<style>\n",
       "    .dataframe thead tr:only-child th {\n",
       "        text-align: right;\n",
       "    }\n",
       "\n",
       "    .dataframe thead th {\n",
       "        text-align: left;\n",
       "    }\n",
       "\n",
       "    .dataframe tbody tr th {\n",
       "        vertical-align: top;\n",
       "    }\n",
       "</style>\n",
       "<table border=\"1\" class=\"dataframe\">\n",
       "  <thead>\n",
       "    <tr style=\"text-align: right;\">\n",
       "      <th></th>\n",
       "      <th>0</th>\n",
       "      <th>1</th>\n",
       "      <th>2</th>\n",
       "      <th>3</th>\n",
       "      <th>4</th>\n",
       "      <th>5</th>\n",
       "      <th>6</th>\n",
       "      <th>7</th>\n",
       "      <th>8</th>\n",
       "      <th>9</th>\n",
       "      <th>...</th>\n",
       "      <th>207</th>\n",
       "      <th>208</th>\n",
       "      <th>209</th>\n",
       "      <th>210</th>\n",
       "      <th>211</th>\n",
       "      <th>212</th>\n",
       "      <th>213</th>\n",
       "      <th>214</th>\n",
       "      <th>215</th>\n",
       "      <th>0</th>\n",
       "    </tr>\n",
       "  </thead>\n",
       "  <tbody>\n",
       "    <tr>\n",
       "      <th>384</th>\n",
       "      <td>-66.348220</td>\n",
       "      <td>-66.348220</td>\n",
       "      <td>-66.348220</td>\n",
       "      <td>-66.348220</td>\n",
       "      <td>-66.348220</td>\n",
       "      <td>-62.797142</td>\n",
       "      <td>-65.721075</td>\n",
       "      <td>-66.348220</td>\n",
       "      <td>-66.348220</td>\n",
       "      <td>-66.348220</td>\n",
       "      <td>...</td>\n",
       "      <td>-52.630403</td>\n",
       "      <td>-49.383379</td>\n",
       "      <td>-49.429265</td>\n",
       "      <td>-52.419689</td>\n",
       "      <td>-53.660921</td>\n",
       "      <td>-53.482833</td>\n",
       "      <td>-52.205515</td>\n",
       "      <td>-53.841911</td>\n",
       "      <td>-54.661535</td>\n",
       "      <td>male_sad</td>\n",
       "    </tr>\n",
       "    <tr>\n",
       "      <th>595</th>\n",
       "      <td>-66.730016</td>\n",
       "      <td>-66.730016</td>\n",
       "      <td>-66.730016</td>\n",
       "      <td>-66.730016</td>\n",
       "      <td>-66.730016</td>\n",
       "      <td>-66.730016</td>\n",
       "      <td>-66.730016</td>\n",
       "      <td>-66.730016</td>\n",
       "      <td>-66.730016</td>\n",
       "      <td>-66.730016</td>\n",
       "      <td>...</td>\n",
       "      <td>-66.730016</td>\n",
       "      <td>-66.730016</td>\n",
       "      <td>-66.659748</td>\n",
       "      <td>-66.092053</td>\n",
       "      <td>-66.427894</td>\n",
       "      <td>-66.730016</td>\n",
       "      <td>-66.561697</td>\n",
       "      <td>-65.294555</td>\n",
       "      <td>-65.872494</td>\n",
       "      <td>female_angry</td>\n",
       "    </tr>\n",
       "    <tr>\n",
       "      <th>419</th>\n",
       "      <td>-53.769216</td>\n",
       "      <td>-55.061158</td>\n",
       "      <td>-53.305227</td>\n",
       "      <td>-51.120282</td>\n",
       "      <td>-52.921001</td>\n",
       "      <td>-52.180352</td>\n",
       "      <td>-53.490261</td>\n",
       "      <td>-54.648841</td>\n",
       "      <td>-52.985473</td>\n",
       "      <td>-51.930319</td>\n",
       "      <td>...</td>\n",
       "      <td>-48.560605</td>\n",
       "      <td>-47.684605</td>\n",
       "      <td>-46.392758</td>\n",
       "      <td>-47.169001</td>\n",
       "      <td>-48.063584</td>\n",
       "      <td>-49.027493</td>\n",
       "      <td>-50.796035</td>\n",
       "      <td>-50.996393</td>\n",
       "      <td>-49.011706</td>\n",
       "      <td>female_sad</td>\n",
       "    </tr>\n",
       "    <tr>\n",
       "      <th>1318</th>\n",
       "      <td>0.141154</td>\n",
       "      <td>-1.890112</td>\n",
       "      <td>-6.834041</td>\n",
       "      <td>-7.146915</td>\n",
       "      <td>-7.428035</td>\n",
       "      <td>-7.331070</td>\n",
       "      <td>-7.330199</td>\n",
       "      <td>-7.143712</td>\n",
       "      <td>-7.353791</td>\n",
       "      <td>-7.521930</td>\n",
       "      <td>...</td>\n",
       "      <td>-21.726595</td>\n",
       "      <td>-21.101817</td>\n",
       "      <td>-20.511847</td>\n",
       "      <td>-19.783785</td>\n",
       "      <td>-22.081602</td>\n",
       "      <td>-21.137747</td>\n",
       "      <td>-19.667655</td>\n",
       "      <td>-20.545305</td>\n",
       "      <td>-22.456955</td>\n",
       "      <td>male_fearful</td>\n",
       "    </tr>\n",
       "    <tr>\n",
       "      <th>680</th>\n",
       "      <td>-43.826744</td>\n",
       "      <td>-44.310900</td>\n",
       "      <td>-44.328308</td>\n",
       "      <td>-44.203774</td>\n",
       "      <td>-44.118380</td>\n",
       "      <td>-44.075670</td>\n",
       "      <td>-43.239178</td>\n",
       "      <td>-43.239971</td>\n",
       "      <td>-43.038306</td>\n",
       "      <td>-42.939907</td>\n",
       "      <td>...</td>\n",
       "      <td>-20.941555</td>\n",
       "      <td>-25.617258</td>\n",
       "      <td>-26.698866</td>\n",
       "      <td>-25.630834</td>\n",
       "      <td>-28.005305</td>\n",
       "      <td>-30.681028</td>\n",
       "      <td>-32.177225</td>\n",
       "      <td>-31.636646</td>\n",
       "      <td>-30.872800</td>\n",
       "      <td>male_angry</td>\n",
       "    </tr>\n",
       "    <tr>\n",
       "      <th>1344</th>\n",
       "      <td>-28.520928</td>\n",
       "      <td>-26.120322</td>\n",
       "      <td>-26.568178</td>\n",
       "      <td>-26.995864</td>\n",
       "      <td>-26.450248</td>\n",
       "      <td>-26.345966</td>\n",
       "      <td>-26.882970</td>\n",
       "      <td>-25.830752</td>\n",
       "      <td>-26.015952</td>\n",
       "      <td>-27.689731</td>\n",
       "      <td>...</td>\n",
       "      <td>0.000000</td>\n",
       "      <td>0.000000</td>\n",
       "      <td>0.000000</td>\n",
       "      <td>0.000000</td>\n",
       "      <td>0.000000</td>\n",
       "      <td>0.000000</td>\n",
       "      <td>0.000000</td>\n",
       "      <td>0.000000</td>\n",
       "      <td>0.000000</td>\n",
       "      <td>male_happy</td>\n",
       "    </tr>\n",
       "    <tr>\n",
       "      <th>723</th>\n",
       "      <td>-43.612680</td>\n",
       "      <td>-43.612680</td>\n",
       "      <td>-43.612680</td>\n",
       "      <td>-43.612680</td>\n",
       "      <td>-43.612680</td>\n",
       "      <td>-43.612680</td>\n",
       "      <td>-43.612680</td>\n",
       "      <td>-43.612680</td>\n",
       "      <td>-43.612680</td>\n",
       "      <td>-43.612680</td>\n",
       "      <td>...</td>\n",
       "      <td>-42.085371</td>\n",
       "      <td>-42.376162</td>\n",
       "      <td>-43.340164</td>\n",
       "      <td>-42.947368</td>\n",
       "      <td>-43.227011</td>\n",
       "      <td>-43.231191</td>\n",
       "      <td>-44.128215</td>\n",
       "      <td>-43.663723</td>\n",
       "      <td>-42.887394</td>\n",
       "      <td>female_angry</td>\n",
       "    </tr>\n",
       "    <tr>\n",
       "      <th>1265</th>\n",
       "      <td>-39.991394</td>\n",
       "      <td>-35.741445</td>\n",
       "      <td>-28.598387</td>\n",
       "      <td>-26.013478</td>\n",
       "      <td>-26.699656</td>\n",
       "      <td>-23.846577</td>\n",
       "      <td>-22.048639</td>\n",
       "      <td>-22.696152</td>\n",
       "      <td>-24.532903</td>\n",
       "      <td>-30.425296</td>\n",
       "      <td>...</td>\n",
       "      <td>-42.750622</td>\n",
       "      <td>-42.401878</td>\n",
       "      <td>-42.229751</td>\n",
       "      <td>-41.913388</td>\n",
       "      <td>-40.750282</td>\n",
       "      <td>-39.964052</td>\n",
       "      <td>-40.102125</td>\n",
       "      <td>-38.991461</td>\n",
       "      <td>-36.121244</td>\n",
       "      <td>male_fearful</td>\n",
       "    </tr>\n",
       "    <tr>\n",
       "      <th>607</th>\n",
       "      <td>-46.424902</td>\n",
       "      <td>-46.442376</td>\n",
       "      <td>-47.522544</td>\n",
       "      <td>-47.161764</td>\n",
       "      <td>-47.574394</td>\n",
       "      <td>-49.036715</td>\n",
       "      <td>-49.656684</td>\n",
       "      <td>-50.018894</td>\n",
       "      <td>-49.297414</td>\n",
       "      <td>-48.125211</td>\n",
       "      <td>...</td>\n",
       "      <td>-47.007094</td>\n",
       "      <td>-47.213200</td>\n",
       "      <td>-46.885091</td>\n",
       "      <td>-47.983125</td>\n",
       "      <td>-50.044078</td>\n",
       "      <td>-48.948539</td>\n",
       "      <td>-47.469149</td>\n",
       "      <td>-47.738534</td>\n",
       "      <td>-46.882835</td>\n",
       "      <td>female_angry</td>\n",
       "    </tr>\n",
       "    <tr>\n",
       "      <th>543</th>\n",
       "      <td>-59.961592</td>\n",
       "      <td>-57.833689</td>\n",
       "      <td>-59.973265</td>\n",
       "      <td>-61.480152</td>\n",
       "      <td>-61.480152</td>\n",
       "      <td>-61.480152</td>\n",
       "      <td>-61.480152</td>\n",
       "      <td>-61.480152</td>\n",
       "      <td>-60.477495</td>\n",
       "      <td>-57.440553</td>\n",
       "      <td>...</td>\n",
       "      <td>-42.841297</td>\n",
       "      <td>-46.036947</td>\n",
       "      <td>-47.290371</td>\n",
       "      <td>-48.049756</td>\n",
       "      <td>-52.795936</td>\n",
       "      <td>-51.500848</td>\n",
       "      <td>-49.947344</td>\n",
       "      <td>-51.618375</td>\n",
       "      <td>-53.168421</td>\n",
       "      <td>female_sad</td>\n",
       "    </tr>\n",
       "  </tbody>\n",
       "</table>\n",
       "<p>10 rows × 217 columns</p>\n",
       "</div>"
      ],
      "text/plain": [
       "            0          1          2          3          4          5    \\\n",
       "384  -66.348220 -66.348220 -66.348220 -66.348220 -66.348220 -62.797142   \n",
       "595  -66.730016 -66.730016 -66.730016 -66.730016 -66.730016 -66.730016   \n",
       "419  -53.769216 -55.061158 -53.305227 -51.120282 -52.921001 -52.180352   \n",
       "1318   0.141154  -1.890112  -6.834041  -7.146915  -7.428035  -7.331070   \n",
       "680  -43.826744 -44.310900 -44.328308 -44.203774 -44.118380 -44.075670   \n",
       "1344 -28.520928 -26.120322 -26.568178 -26.995864 -26.450248 -26.345966   \n",
       "723  -43.612680 -43.612680 -43.612680 -43.612680 -43.612680 -43.612680   \n",
       "1265 -39.991394 -35.741445 -28.598387 -26.013478 -26.699656 -23.846577   \n",
       "607  -46.424902 -46.442376 -47.522544 -47.161764 -47.574394 -49.036715   \n",
       "543  -59.961592 -57.833689 -59.973265 -61.480152 -61.480152 -61.480152   \n",
       "\n",
       "            6          7          8          9        ...             207  \\\n",
       "384  -65.721075 -66.348220 -66.348220 -66.348220      ...      -52.630403   \n",
       "595  -66.730016 -66.730016 -66.730016 -66.730016      ...      -66.730016   \n",
       "419  -53.490261 -54.648841 -52.985473 -51.930319      ...      -48.560605   \n",
       "1318  -7.330199  -7.143712  -7.353791  -7.521930      ...      -21.726595   \n",
       "680  -43.239178 -43.239971 -43.038306 -42.939907      ...      -20.941555   \n",
       "1344 -26.882970 -25.830752 -26.015952 -27.689731      ...        0.000000   \n",
       "723  -43.612680 -43.612680 -43.612680 -43.612680      ...      -42.085371   \n",
       "1265 -22.048639 -22.696152 -24.532903 -30.425296      ...      -42.750622   \n",
       "607  -49.656684 -50.018894 -49.297414 -48.125211      ...      -47.007094   \n",
       "543  -61.480152 -61.480152 -60.477495 -57.440553      ...      -42.841297   \n",
       "\n",
       "            208        209        210        211        212        213  \\\n",
       "384  -49.383379 -49.429265 -52.419689 -53.660921 -53.482833 -52.205515   \n",
       "595  -66.730016 -66.659748 -66.092053 -66.427894 -66.730016 -66.561697   \n",
       "419  -47.684605 -46.392758 -47.169001 -48.063584 -49.027493 -50.796035   \n",
       "1318 -21.101817 -20.511847 -19.783785 -22.081602 -21.137747 -19.667655   \n",
       "680  -25.617258 -26.698866 -25.630834 -28.005305 -30.681028 -32.177225   \n",
       "1344   0.000000   0.000000   0.000000   0.000000   0.000000   0.000000   \n",
       "723  -42.376162 -43.340164 -42.947368 -43.227011 -43.231191 -44.128215   \n",
       "1265 -42.401878 -42.229751 -41.913388 -40.750282 -39.964052 -40.102125   \n",
       "607  -47.213200 -46.885091 -47.983125 -50.044078 -48.948539 -47.469149   \n",
       "543  -46.036947 -47.290371 -48.049756 -52.795936 -51.500848 -49.947344   \n",
       "\n",
       "            214        215           0    \n",
       "384  -53.841911 -54.661535      male_sad  \n",
       "595  -65.294555 -65.872494  female_angry  \n",
       "419  -50.996393 -49.011706    female_sad  \n",
       "1318 -20.545305 -22.456955  male_fearful  \n",
       "680  -31.636646 -30.872800    male_angry  \n",
       "1344   0.000000   0.000000    male_happy  \n",
       "723  -43.663723 -42.887394  female_angry  \n",
       "1265 -38.991461 -36.121244  male_fearful  \n",
       "607  -47.738534 -46.882835  female_angry  \n",
       "543  -51.618375 -53.168421    female_sad  \n",
       "\n",
       "[10 rows x 217 columns]"
      ]
     },
     "execution_count": 23,
     "metadata": {},
     "output_type": "execute_result"
    }
   ],
   "source": [
    "train[250:260]"
   ]
  },
  {
   "cell_type": "code",
   "execution_count": 24,
   "metadata": {
    "collapsed": true
   },
   "outputs": [],
   "source": [
    "trainfeatures = train.iloc[:, :-1]"
   ]
  },
  {
   "cell_type": "code",
   "execution_count": 25,
   "metadata": {
    "collapsed": true
   },
   "outputs": [],
   "source": [
    "trainlabel = train.iloc[:, -1:]"
   ]
  },
  {
   "cell_type": "code",
   "execution_count": 26,
   "metadata": {
    "collapsed": true
   },
   "outputs": [],
   "source": [
    "testfeatures = test.iloc[:, :-1]"
   ]
  },
  {
   "cell_type": "code",
   "execution_count": 27,
   "metadata": {
    "collapsed": true
   },
   "outputs": [],
   "source": [
    "testlabel = test.iloc[:, -1:]"
   ]
  },
  {
   "cell_type": "code",
   "execution_count": 28,
   "metadata": {},
   "outputs": [
    {
     "name": "stderr",
     "output_type": "stream",
     "text": [
      "C:\\ProgramData\\Anaconda3\\lib\\site-packages\\sklearn\\preprocessing\\label.py:111: DataConversionWarning: A column-vector y was passed when a 1d array was expected. Please change the shape of y to (n_samples, ), for example using ravel().\n",
      "  y = column_or_1d(y, warn=True)\n"
     ]
    }
   ],
   "source": [
    "from keras.utils import np_utils\n",
    "from sklearn.preprocessing import LabelEncoder\n",
    "\n",
    "X_train = np.array(trainfeatures)\n",
    "y_train = np.array(trainlabel)\n",
    "X_test = np.array(testfeatures)\n",
    "y_test = np.array(testlabel)\n",
    "\n",
    "lb = LabelEncoder()\n",
    "\n",
    "y_train = np_utils.to_categorical(lb.fit_transform(y_train))\n",
    "y_test = np_utils.to_categorical(lb.fit_transform(y_test))\n"
   ]
  },
  {
   "cell_type": "code",
   "execution_count": 29,
   "metadata": {},
   "outputs": [
    {
     "data": {
      "text/plain": [
       "array([[ 0.,  0.,  0., ...,  0.,  0.,  0.],\n",
       "       [ 0.,  0.,  0., ...,  0.,  0.,  0.],\n",
       "       [ 0.,  0.,  0., ...,  0.,  1.,  0.],\n",
       "       ..., \n",
       "       [ 0.,  0.,  0., ...,  1.,  0.,  0.],\n",
       "       [ 0.,  0.,  0., ...,  1.,  0.,  0.],\n",
       "       [ 0.,  0.,  0., ...,  0.,  0.,  0.]])"
      ]
     },
     "execution_count": 29,
     "metadata": {},
     "output_type": "execute_result"
    }
   ],
   "source": [
    "y_train"
   ]
  },
  {
   "cell_type": "code",
   "execution_count": 30,
   "metadata": {},
   "outputs": [
    {
     "data": {
      "text/plain": [
       "(1378, 216)"
      ]
     },
     "execution_count": 30,
     "metadata": {},
     "output_type": "execute_result"
    }
   ],
   "source": [
    "X_train.shape"
   ]
  },
  {
   "cell_type": "markdown",
   "metadata": {},
   "source": [
    "## Changing dimension for CNN model"
   ]
  },
  {
   "cell_type": "code",
   "execution_count": 31,
   "metadata": {
    "collapsed": true
   },
   "outputs": [],
   "source": [
    "\n",
    "x_traincnn =np.expand_dims(X_train, axis=2)\n",
    "x_testcnn= np.expand_dims(X_test, axis=2)"
   ]
  },
  {
   "cell_type": "code",
   "execution_count": 45,
   "metadata": {
    "collapsed": true
   },
   "outputs": [],
   "source": [
    "model = Sequential()\n",
    "\n",
    "model.add(Conv1D(256, 5,padding='same',\n",
    "                 input_shape=(216,1)))\n",
    "model.add(Activation('relu'))\n",
    "model.add(Conv1D(128, 5,padding='same'))\n",
    "model.add(Activation('relu'))\n",
    "model.add(Dropout(0.1))\n",
    "model.add(MaxPooling1D(pool_size=(8)))\n",
    "model.add(Conv1D(128, 5,padding='same',))\n",
    "model.add(Activation('relu'))\n",
    "#model.add(Conv1D(128, 5,padding='same',))\n",
    "#model.add(Activation('relu'))\n",
    "#model.add(Conv1D(128, 5,padding='same',))\n",
    "#model.add(Activation('relu'))\n",
    "#model.add(Dropout(0.2))\n",
    "model.add(Conv1D(128, 5,padding='same',))\n",
    "model.add(Activation('relu'))\n",
    "model.add(Flatten())\n",
    "model.add(Dense(10))\n",
    "model.add(Activation('softmax'))\n",
    "opt = keras.optimizers.rmsprop(lr=0.00001, decay=1e-6)"
   ]
  },
  {
   "cell_type": "code",
   "execution_count": 46,
   "metadata": {},
   "outputs": [
    {
     "name": "stdout",
     "output_type": "stream",
     "text": [
      "_________________________________________________________________\n",
      "Layer (type)                 Output Shape              Param #   \n",
      "=================================================================\n",
      "conv1d_9 (Conv1D)            (None, 216, 256)          1536      \n",
      "_________________________________________________________________\n",
      "activation_11 (Activation)   (None, 216, 256)          0         \n",
      "_________________________________________________________________\n",
      "conv1d_10 (Conv1D)           (None, 216, 128)          163968    \n",
      "_________________________________________________________________\n",
      "activation_12 (Activation)   (None, 216, 128)          0         \n",
      "_________________________________________________________________\n",
      "dropout_4 (Dropout)          (None, 216, 128)          0         \n",
      "_________________________________________________________________\n",
      "max_pooling1d_3 (MaxPooling1 (None, 27, 128)           0         \n",
      "_________________________________________________________________\n",
      "conv1d_11 (Conv1D)           (None, 27, 128)           82048     \n",
      "_________________________________________________________________\n",
      "activation_13 (Activation)   (None, 27, 128)           0         \n",
      "_________________________________________________________________\n",
      "conv1d_12 (Conv1D)           (None, 27, 128)           82048     \n",
      "_________________________________________________________________\n",
      "activation_14 (Activation)   (None, 27, 128)           0         \n",
      "_________________________________________________________________\n",
      "flatten_3 (Flatten)          (None, 3456)              0         \n",
      "_________________________________________________________________\n",
      "dense_3 (Dense)              (None, 10)                34570     \n",
      "_________________________________________________________________\n",
      "activation_15 (Activation)   (None, 10)                0         \n",
      "=================================================================\n",
      "Total params: 364,170\n",
      "Trainable params: 364,170\n",
      "Non-trainable params: 0\n",
      "_________________________________________________________________\n"
     ]
    }
   ],
   "source": [
    "model.summary()"
   ]
  },
  {
   "cell_type": "code",
   "execution_count": 47,
   "metadata": {
    "collapsed": true
   },
   "outputs": [],
   "source": [
    "model.compile(loss='categorical_crossentropy', optimizer=opt,metrics=['accuracy'])"
   ]
  },
  {
   "cell_type": "markdown",
   "metadata": {},
   "source": [
    "### Removed the whole training part for avoiding unnecessary long epochs list"
   ]
  },
  {
   "cell_type": "code",
   "execution_count": null,
   "metadata": {
    "collapsed": true
   },
   "outputs": [],
   "source": [
    "cnnhistory=model.fit(x_traincnn, y_train, batch_size=16, epochs=700, validation_data=(x_testcnn, y_test))"
   ]
  },
  {
   "cell_type": "code",
   "execution_count": 37,
   "metadata": {},
   "outputs": [
    {
     "data": {
      "image/png": "[encoded data removed]",
      "text/plain": [
       "<matplotlib.figure.Figure at 0x281d75be780>"
      ]
     },
     "metadata": {},
     "output_type": "display_data"
    }
   ],
   "source": [
    "plt.plot(cnnhistory.history['loss'])\n",
    "plt.plot(cnnhistory.history['val_loss'])\n",
    "plt.title('model loss')\n",
    "plt.ylabel('loss')\n",
    "plt.xlabel('epoch')\n",
    "plt.legend(['train', 'test'], loc='upper left')\n",
    "plt.show()"
   ]
  },
  {
   "cell_type": "markdown",
   "metadata": {},
   "source": [
    "## Saving the model"
   ]
  },
  {
   "cell_type": "code",
   "execution_count": 112,
   "metadata": {},
   "outputs": [
    {
     "name": "stdout",
     "output_type": "stream",
     "text": [
      "Saved trained model at C:\\Users\\mites\\Documents\\Cognitive\\Final Exam\\saved_models\\Emotion_Voice_Detection_Model.h5 \n"
     ]
    }
   ],
   "source": [
    "model_name = 'Emotion_Voice_Detection_Model.h5'\n",
    "save_dir = os.path.join(os.getcwd(), 'saved_models')\n",
    "# Save model and weights\n",
    "if not os.path.isdir(save_dir):\n",
    "    os.makedirs(save_dir)\n",
    "model_path = os.path.join(save_dir, model_name)\n",
    "model.save(model_path)\n",
    "print('Saved trained model at %s ' % model_path)"
   ]
  },
  {
   "cell_type": "code",
   "execution_count": 133,
   "metadata": {
    "collapsed": true
   },
   "outputs": [],
   "source": [
    "import json\n",
    "model_json = model.to_json()\n",
    "with open(\"model.json\", \"w\") as json_file:\n",
    "    json_file.write(model_json)"
   ]
  },
  {
   "cell_type": "markdown",
   "metadata": {},
   "source": [
    "## Loading the model"
   ]
  },
  {
   "cell_type": "code",
   "execution_count": 137,
   "metadata": {},
   "outputs": [
    {
     "name": "stdout",
     "output_type": "stream",
     "text": [
      "Loaded model from disk\n",
      "acc: 72.73%\n"
     ]
    }
   ],
   "source": [
    "# loading json and creating model\n",
    "from keras.models import model_from_json\n",
    "json_file = open('model.json', 'r')\n",
    "loaded_model_json = json_file.read()\n",
    "json_file.close()\n",
    "loaded_model = model_from_json(loaded_model_json)\n",
    "# load weights into new model\n",
    "loaded_model.load_weights(\"saved_models/Emotion_Voice_Detection_Model.h5\")\n",
    "print(\"Loaded model from disk\")\n",
    " \n",
    "# evaluate loaded model on test data\n",
    "loaded_model.compile(loss='categorical_crossentropy', optimizer=opt, metrics=['accuracy'])\n",
    "score = loaded_model.evaluate(x_testcnn, y_test, verbose=0)\n",
    "print(\"%s: %.2f%%\" % (loaded_model.metrics_names[1], score[1]*100))"
   ]
  },
  {
   "cell_type": "markdown",
   "metadata": {},
   "source": [
    "## Predicting emotions on the test data"
   ]
  },
  {
   "cell_type": "code",
   "execution_count": 138,
   "metadata": {},
   "outputs": [
    {
     "name": "stdout",
     "output_type": "stream",
     "text": [
      "319/319 [==============================] - 0s     \n"
     ]
    }
   ],
   "source": [
    "preds = loaded_model.predict(x_testcnn, \n",
    "                         batch_size=32, \n",
    "                         verbose=1)"
   ]
  },
  {
   "cell_type": "code",
   "execution_count": 139,
   "metadata": {},
   "outputs": [
    {
     "data": {
      "text/plain": [
       "array([[  3.49815641e-12,   1.18043589e-10,   1.13181663e-19, ...,\n",
       "          1.80016723e-05,   7.36836637e-06,   1.14132257e-04],\n",
       "       [  3.87504338e-16,   5.73074694e-23,   1.31673211e-14, ...,\n",
       "          1.75147681e-04,   1.85760673e-05,   9.99805748e-01],\n",
       "       [  8.39285008e-07,   3.43896300e-11,   5.38965035e-03, ...,\n",
       "          9.93317604e-01,   1.99900052e-04,   1.05243188e-03],\n",
       "       ..., \n",
       "       [  3.49616457e-04,   1.94651744e-04,   6.65218568e-06, ...,\n",
       "          1.67340226e-02,   6.44345134e-02,   9.10043001e-01],\n",
       "       [  4.23396705e-06,   1.59581254e-11,   6.03030126e-12, ...,\n",
       "          6.36715861e-03,   9.64888096e-01,   2.34207995e-02],\n",
       "       [  3.69524572e-31,   0.00000000e+00,   0.00000000e+00, ...,\n",
       "          5.24333927e-07,   9.99998808e-01,   6.36476927e-10]], dtype=float32)"
      ]
     },
     "execution_count": 139,
     "metadata": {},
     "output_type": "execute_result"
    }
   ],
   "source": [
    "preds"
   ]
  },
  {
   "cell_type": "code",
   "execution_count": 115,
   "metadata": {
    "collapsed": true
   },
   "outputs": [],
   "source": [
    "preds1=preds.argmax(axis=1)"
   ]
  },
  {
   "cell_type": "code",
   "execution_count": 116,
   "metadata": {},
   "outputs": [
    {
     "data": {
      "text/plain": [
       "array([6, 9, 7, 1, 7, 8, 1, 2, 5, 8, 7, 1, 9, 9, 4, 0, 5, 0, 5, 8, 4, 1, 5,\n",
       "       9, 7, 5, 7, 1, 7, 5, 8, 1, 8, 9, 2, 2, 1, 8, 6, 0, 5, 9, 1, 0, 7, 5,\n",
       "       5, 7, 7, 0, 0, 7, 0, 0, 6, 5, 3, 7, 5, 8, 5, 4, 8, 8, 9, 7, 2, 8, 6,\n",
       "       1, 5, 6, 8, 6, 5, 3, 4, 8, 8, 9, 9, 0, 8, 9, 4, 5, 0, 0, 5, 5, 7, 9,\n",
       "       4, 7, 8, 6, 9, 5, 6, 8, 1, 7, 0, 8, 8, 7, 3, 2, 7, 8, 7, 9, 7, 9, 5,\n",
       "       7, 8, 6, 0, 1, 6, 9, 1, 5, 8, 7, 1, 8, 6, 9, 3, 7, 7, 4, 6, 5, 8, 8,\n",
       "       1, 0, 5, 0, 7, 6, 5, 7, 4, 9, 2, 5, 4, 7, 5, 6, 8, 5, 5, 4, 8, 8, 2,\n",
       "       7, 5, 7, 6, 9, 8, 9, 9, 0, 2, 5, 7, 8, 3, 0, 4, 6, 6, 9, 9, 9, 3, 8,\n",
       "       1, 7, 2, 5, 8, 1, 8, 4, 4, 8, 5, 2, 9, 9, 5, 6, 0, 5, 9, 0, 8, 7, 4,\n",
       "       6, 6, 3, 9, 5, 9, 6, 1, 7, 5, 7, 8, 4, 9, 2, 5, 6, 6, 4, 2, 1, 8, 2,\n",
       "       7, 5, 7, 3, 5, 6, 8, 7, 1, 6, 0, 0, 4, 7, 4, 4, 4, 4, 4, 0, 8, 1, 6,\n",
       "       7, 4, 8, 7, 8, 2, 9, 6, 2, 7, 8, 3, 9, 9, 7, 2, 5, 7, 2, 9, 5, 5, 7,\n",
       "       8, 5, 6, 8, 1, 2, 5, 9, 4, 5, 5, 6, 7, 8, 7, 0, 9, 5, 9, 5, 9, 7, 8,\n",
       "       1, 2, 8, 7, 7, 5, 7, 8, 7, 7, 4, 5, 8, 5, 0, 0, 5, 9, 8, 8], dtype=int64)"
      ]
     },
     "execution_count": 116,
     "metadata": {},
     "output_type": "execute_result"
    }
   ],
   "source": [
    "preds1"
   ]
  },
  {
   "cell_type": "code",
   "execution_count": 117,
   "metadata": {
    "collapsed": true
   },
   "outputs": [],
   "source": [
    "abc = preds1.astype(int).flatten()"
   ]
  },
  {
   "cell_type": "code",
   "execution_count": 118,
   "metadata": {
    "collapsed": true
   },
   "outputs": [],
   "source": [
    "predictions = (lb.inverse_transform((abc)))"
   ]
  },
  {
   "cell_type": "code",
   "execution_count": 119,
   "metadata": {},
   "outputs": [
    {
     "data": {
      "text/html": [
       "<div>\n",
       "<style>\n",
       "    .dataframe thead tr:only-child th {\n",
       "        text-align: right;\n",
       "    }\n",
       "\n",
       "    .dataframe thead th {\n",
       "        text-align: left;\n",
       "    }\n",
       "\n",
       "    .dataframe tbody tr th {\n",
       "        vertical-align: top;\n",
       "    }\n",
       "</style>\n",
       "<table border=\"1\" class=\"dataframe\">\n",
       "  <thead>\n",
       "    <tr style=\"text-align: right;\">\n",
       "      <th></th>\n",
       "      <th>predictedvalues</th>\n",
       "    </tr>\n",
       "  </thead>\n",
       "  <tbody>\n",
       "    <tr>\n",
       "      <th>0</th>\n",
       "      <td>male_calm</td>\n",
       "    </tr>\n",
       "    <tr>\n",
       "      <th>1</th>\n",
       "      <td>male_sad</td>\n",
       "    </tr>\n",
       "    <tr>\n",
       "      <th>2</th>\n",
       "      <td>male_fearful</td>\n",
       "    </tr>\n",
       "    <tr>\n",
       "      <th>3</th>\n",
       "      <td>female_calm</td>\n",
       "    </tr>\n",
       "    <tr>\n",
       "      <th>4</th>\n",
       "      <td>male_fearful</td>\n",
       "    </tr>\n",
       "    <tr>\n",
       "      <th>5</th>\n",
       "      <td>male_happy</td>\n",
       "    </tr>\n",
       "    <tr>\n",
       "      <th>6</th>\n",
       "      <td>female_calm</td>\n",
       "    </tr>\n",
       "    <tr>\n",
       "      <th>7</th>\n",
       "      <td>female_fearful</td>\n",
       "    </tr>\n",
       "    <tr>\n",
       "      <th>8</th>\n",
       "      <td>male_angry</td>\n",
       "    </tr>\n",
       "    <tr>\n",
       "      <th>9</th>\n",
       "      <td>male_happy</td>\n",
       "    </tr>\n",
       "  </tbody>\n",
       "</table>\n",
       "</div>"
      ],
      "text/plain": [
       "  predictedvalues\n",
       "0       male_calm\n",
       "1        male_sad\n",
       "2    male_fearful\n",
       "3     female_calm\n",
       "4    male_fearful\n",
       "5      male_happy\n",
       "6     female_calm\n",
       "7  female_fearful\n",
       "8      male_angry\n",
       "9      male_happy"
      ]
     },
     "execution_count": 119,
     "metadata": {},
     "output_type": "execute_result"
    }
   ],
   "source": [
    "preddf = pd.DataFrame({'predictedvalues': predictions})\n",
    "preddf[:10]"
   ]
  },
  {
   "cell_type": "code",
   "execution_count": 120,
   "metadata": {
    "collapsed": true
   },
   "outputs": [],
   "source": [
    "actual=y_test.argmax(axis=1)\n",
    "abc123 = actual.astype(int).flatten()\n",
    "actualvalues = (lb.inverse_transform((abc123)))"
   ]
  },
  {
   "cell_type": "code",
   "execution_count": 121,
   "metadata": {},
   "outputs": [
    {
     "data": {
      "text/html": [
       "<div>\n",
       "<style>\n",
       "    .dataframe thead tr:only-child th {\n",
       "        text-align: right;\n",
       "    }\n",
       "\n",
       "    .dataframe thead th {\n",
       "        text-align: left;\n",
       "    }\n",
       "\n",
       "    .dataframe tbody tr th {\n",
       "        vertical-align: top;\n",
       "    }\n",
       "</style>\n",
       "<table border=\"1\" class=\"dataframe\">\n",
       "  <thead>\n",
       "    <tr style=\"text-align: right;\">\n",
       "      <th></th>\n",
       "      <th>actualvalues</th>\n",
       "    </tr>\n",
       "  </thead>\n",
       "  <tbody>\n",
       "    <tr>\n",
       "      <th>0</th>\n",
       "      <td>male_calm</td>\n",
       "    </tr>\n",
       "    <tr>\n",
       "      <th>1</th>\n",
       "      <td>male_sad</td>\n",
       "    </tr>\n",
       "    <tr>\n",
       "      <th>2</th>\n",
       "      <td>male_fearful</td>\n",
       "    </tr>\n",
       "    <tr>\n",
       "      <th>3</th>\n",
       "      <td>female_fearful</td>\n",
       "    </tr>\n",
       "    <tr>\n",
       "      <th>4</th>\n",
       "      <td>male_fearful</td>\n",
       "    </tr>\n",
       "    <tr>\n",
       "      <th>5</th>\n",
       "      <td>male_happy</td>\n",
       "    </tr>\n",
       "    <tr>\n",
       "      <th>6</th>\n",
       "      <td>female_calm</td>\n",
       "    </tr>\n",
       "    <tr>\n",
       "      <th>7</th>\n",
       "      <td>female_angry</td>\n",
       "    </tr>\n",
       "    <tr>\n",
       "      <th>8</th>\n",
       "      <td>male_angry</td>\n",
       "    </tr>\n",
       "    <tr>\n",
       "      <th>9</th>\n",
       "      <td>male_happy</td>\n",
       "    </tr>\n",
       "  </tbody>\n",
       "</table>\n",
       "</div>"
      ],
      "text/plain": [
       "     actualvalues\n",
       "0       male_calm\n",
       "1        male_sad\n",
       "2    male_fearful\n",
       "3  female_fearful\n",
       "4    male_fearful\n",
       "5      male_happy\n",
       "6     female_calm\n",
       "7    female_angry\n",
       "8      male_angry\n",
       "9      male_happy"
      ]
     },
     "execution_count": 121,
     "metadata": {},
     "output_type": "execute_result"
    }
   ],
   "source": [
    "actualdf = pd.DataFrame({'actualvalues': actualvalues})\n",
    "actualdf[:10]"
   ]
  },
  {
   "cell_type": "code",
   "execution_count": 122,
   "metadata": {
    "collapsed": true
   },
   "outputs": [],
   "source": [
    "finaldf = actualdf.join(preddf)"
   ]
  },
  {
   "cell_type": "markdown",
   "metadata": {},
   "source": [
    "## Actual v/s Predicted emotions"
   ]
  },
  {
   "cell_type": "code",
   "execution_count": 128,
   "metadata": {},
   "outputs": [
    {
     "data": {
      "text/html": [
       "<div>\n",
       "<style>\n",
       "    .dataframe thead tr:only-child th {\n",
       "        text-align: right;\n",
       "    }\n",
       "\n",
       "    .dataframe thead th {\n",
       "        text-align: left;\n",
       "    }\n",
       "\n",
       "    .dataframe tbody tr th {\n",
       "        vertical-align: top;\n",
       "    }\n",
       "</style>\n",
       "<table border=\"1\" class=\"dataframe\">\n",
       "  <thead>\n",
       "    <tr style=\"text-align: right;\">\n",
       "      <th></th>\n",
       "      <th>actualvalues</th>\n",
       "      <th>predictedvalues</th>\n",
       "    </tr>\n",
       "  </thead>\n",
       "  <tbody>\n",
       "    <tr>\n",
       "      <th>170</th>\n",
       "      <td>female_fearful</td>\n",
       "      <td>female_fearful</td>\n",
       "    </tr>\n",
       "    <tr>\n",
       "      <th>171</th>\n",
       "      <td>male_angry</td>\n",
       "      <td>male_angry</td>\n",
       "    </tr>\n",
       "    <tr>\n",
       "      <th>172</th>\n",
       "      <td>male_fearful</td>\n",
       "      <td>male_fearful</td>\n",
       "    </tr>\n",
       "    <tr>\n",
       "      <th>173</th>\n",
       "      <td>male_happy</td>\n",
       "      <td>male_happy</td>\n",
       "    </tr>\n",
       "    <tr>\n",
       "      <th>174</th>\n",
       "      <td>female_happy</td>\n",
       "      <td>female_happy</td>\n",
       "    </tr>\n",
       "    <tr>\n",
       "      <th>175</th>\n",
       "      <td>female_angry</td>\n",
       "      <td>female_angry</td>\n",
       "    </tr>\n",
       "    <tr>\n",
       "      <th>176</th>\n",
       "      <td>female_angry</td>\n",
       "      <td>female_sad</td>\n",
       "    </tr>\n",
       "    <tr>\n",
       "      <th>177</th>\n",
       "      <td>male_sad</td>\n",
       "      <td>male_calm</td>\n",
       "    </tr>\n",
       "    <tr>\n",
       "      <th>178</th>\n",
       "      <td>male_angry</td>\n",
       "      <td>male_calm</td>\n",
       "    </tr>\n",
       "    <tr>\n",
       "      <th>179</th>\n",
       "      <td>male_sad</td>\n",
       "      <td>male_sad</td>\n",
       "    </tr>\n",
       "  </tbody>\n",
       "</table>\n",
       "</div>"
      ],
      "text/plain": [
       "       actualvalues predictedvalues\n",
       "170  female_fearful  female_fearful\n",
       "171      male_angry      male_angry\n",
       "172    male_fearful    male_fearful\n",
       "173      male_happy      male_happy\n",
       "174    female_happy    female_happy\n",
       "175    female_angry    female_angry\n",
       "176    female_angry      female_sad\n",
       "177        male_sad       male_calm\n",
       "178      male_angry       male_calm\n",
       "179        male_sad        male_sad"
      ]
     },
     "execution_count": 128,
     "metadata": {},
     "output_type": "execute_result"
    }
   ],
   "source": [
    "finaldf[170:180]"
   ]
  },
  {
   "cell_type": "code",
   "execution_count": 129,
   "metadata": {},
   "outputs": [
    {
     "data": {
      "text/html": [
       "<div>\n",
       "<style>\n",
       "    .dataframe thead tr:only-child th {\n",
       "        text-align: right;\n",
       "    }\n",
       "\n",
       "    .dataframe thead th {\n",
       "        text-align: left;\n",
       "    }\n",
       "\n",
       "    .dataframe tbody tr th {\n",
       "        vertical-align: top;\n",
       "    }\n",
       "</style>\n",
       "<table border=\"1\" class=\"dataframe\">\n",
       "  <thead>\n",
       "    <tr style=\"text-align: right;\">\n",
       "      <th></th>\n",
       "      <th>predictedvalues</th>\n",
       "    </tr>\n",
       "    <tr>\n",
       "      <th>actualvalues</th>\n",
       "      <th></th>\n",
       "    </tr>\n",
       "  </thead>\n",
       "  <tbody>\n",
       "    <tr>\n",
       "      <th>female_angry</th>\n",
       "      <td>21</td>\n",
       "    </tr>\n",
       "    <tr>\n",
       "      <th>female_calm</th>\n",
       "      <td>20</td>\n",
       "    </tr>\n",
       "    <tr>\n",
       "      <th>female_fearful</th>\n",
       "      <td>19</td>\n",
       "    </tr>\n",
       "    <tr>\n",
       "      <th>female_happy</th>\n",
       "      <td>17</td>\n",
       "    </tr>\n",
       "    <tr>\n",
       "      <th>female_sad</th>\n",
       "      <td>20</td>\n",
       "    </tr>\n",
       "    <tr>\n",
       "      <th>male_angry</th>\n",
       "      <td>55</td>\n",
       "    </tr>\n",
       "    <tr>\n",
       "      <th>male_calm</th>\n",
       "      <td>25</td>\n",
       "    </tr>\n",
       "    <tr>\n",
       "      <th>male_fearful</th>\n",
       "      <td>55</td>\n",
       "    </tr>\n",
       "    <tr>\n",
       "      <th>male_happy</th>\n",
       "      <td>49</td>\n",
       "    </tr>\n",
       "    <tr>\n",
       "      <th>male_sad</th>\n",
       "      <td>38</td>\n",
       "    </tr>\n",
       "  </tbody>\n",
       "</table>\n",
       "</div>"
      ],
      "text/plain": [
       "                predictedvalues\n",
       "actualvalues                   \n",
       "female_angry                 21\n",
       "female_calm                  20\n",
       "female_fearful               19\n",
       "female_happy                 17\n",
       "female_sad                   20\n",
       "male_angry                   55\n",
       "male_calm                    25\n",
       "male_fearful                 55\n",
       "male_happy                   49\n",
       "male_sad                     38"
      ]
     },
     "execution_count": 129,
     "metadata": {},
     "output_type": "execute_result"
    }
   ],
   "source": [
    "finaldf.groupby('actualvalues').count()"
   ]
  },
  {
   "cell_type": "code",
   "execution_count": 130,
   "metadata": {},
   "outputs": [
    {
     "data": {
      "text/html": [
       "<div>\n",
       "<style>\n",
       "    .dataframe thead tr:only-child th {\n",
       "        text-align: right;\n",
       "    }\n",
       "\n",
       "    .dataframe thead th {\n",
       "        text-align: left;\n",
       "    }\n",
       "\n",
       "    .dataframe tbody tr th {\n",
       "        vertical-align: top;\n",
       "    }\n",
       "</style>\n",
       "<table border=\"1\" class=\"dataframe\">\n",
       "  <thead>\n",
       "    <tr style=\"text-align: right;\">\n",
       "      <th></th>\n",
       "      <th>actualvalues</th>\n",
       "    </tr>\n",
       "    <tr>\n",
       "      <th>predictedvalues</th>\n",
       "      <th></th>\n",
       "    </tr>\n",
       "  </thead>\n",
       "  <tbody>\n",
       "    <tr>\n",
       "      <th>female_angry</th>\n",
       "      <td>25</td>\n",
       "    </tr>\n",
       "    <tr>\n",
       "      <th>female_calm</th>\n",
       "      <td>22</td>\n",
       "    </tr>\n",
       "    <tr>\n",
       "      <th>female_fearful</th>\n",
       "      <td>19</td>\n",
       "    </tr>\n",
       "    <tr>\n",
       "      <th>female_happy</th>\n",
       "      <td>9</td>\n",
       "    </tr>\n",
       "    <tr>\n",
       "      <th>female_sad</th>\n",
       "      <td>25</td>\n",
       "    </tr>\n",
       "    <tr>\n",
       "      <th>male_angry</th>\n",
       "      <td>51</td>\n",
       "    </tr>\n",
       "    <tr>\n",
       "      <th>male_calm</th>\n",
       "      <td>29</td>\n",
       "    </tr>\n",
       "    <tr>\n",
       "      <th>male_fearful</th>\n",
       "      <td>51</td>\n",
       "    </tr>\n",
       "    <tr>\n",
       "      <th>male_happy</th>\n",
       "      <td>50</td>\n",
       "    </tr>\n",
       "    <tr>\n",
       "      <th>male_sad</th>\n",
       "      <td>38</td>\n",
       "    </tr>\n",
       "  </tbody>\n",
       "</table>\n",
       "</div>"
      ],
      "text/plain": [
       "                 actualvalues\n",
       "predictedvalues              \n",
       "female_angry               25\n",
       "female_calm                22\n",
       "female_fearful             19\n",
       "female_happy                9\n",
       "female_sad                 25\n",
       "male_angry                 51\n",
       "male_calm                  29\n",
       "male_fearful               51\n",
       "male_happy                 50\n",
       "male_sad                   38"
      ]
     },
     "execution_count": 130,
     "metadata": {},
     "output_type": "execute_result"
    }
   ],
   "source": [
    "finaldf.groupby('predictedvalues').count()"
   ]
  },
  {
   "cell_type": "code",
   "execution_count": 131,
   "metadata": {
    "collapsed": true
   },
   "outputs": [],
   "source": [
    "finaldf.to_csv('Predictions.csv', index=False)"
   ]
  },
  {
   "cell_type": "markdown",
   "metadata": {},
   "source": [
    "## Live Demo"
   ]
  },
  {
   "cell_type": "markdown",
   "metadata": {},
   "source": [
    "#### The file 'output10.wav' in the next cell is the file that was recorded live using the code in AudioRecoreder notebook found in the repository"
   ]
  },
  {
   "cell_type": "code",
   "execution_count": 485,
   "metadata": {
    "collapsed": true
   },
   "outputs": [],
   "source": [
    "data, sampling_rate = librosa.load('output10.wav')"
   ]
  },
  {
   "cell_type": "code",
   "execution_count": 486,
   "metadata": {},
   "outputs": [
    {
     "name": "stdout",
     "output_type": "stream",
     "text": [
      "Populating the interactive namespace from numpy and matplotlib\n"
     ]
    },
    {
     "data": {
      "text/plain": [
       "<matplotlib.collections.PolyCollection at 0x23b43824048>"
      ]
     },
     "execution_count": 486,
     "metadata": {},
     "output_type": "execute_result"
    },
    {
     "data": {
      "image/png": "[encoded data removed]",
      "text/plain": [
       "<matplotlib.figure.Figure at 0x23b453ee550>"
      ]
     },
     "metadata": {},
     "output_type": "display_data"
    }
   ],
   "source": [
    "% pylab inline\n",
    "import os\n",
    "import pandas as pd\n",
    "import librosa\n",
    "import glob \n",
    "\n",
    "plt.figure(figsize=(15, 5))\n",
    "librosa.display.waveplot(data, sr=sampling_rate)"
   ]
  },
  {
   "cell_type": "code",
   "execution_count": 487,
   "metadata": {
    "collapsed": true
   },
   "outputs": [],
   "source": [
    "#livedf= pd.DataFrame(columns=['feature'])\n",
    "X, sample_rate = librosa.load('output10.wav', res_type='kaiser_fast',duration=2.5,sr=22050*2,offset=0.5)\n",
    "sample_rate = np.array(sample_rate)\n",
    "mfccs = np.mean(librosa.feature.mfcc(y=X, sr=sample_rate, n_mfcc=13),axis=0)\n",
    "featurelive = mfccs\n",
    "livedf2 = featurelive"
   ]
  },
  {
   "cell_type": "code",
   "execution_count": 488,
   "metadata": {
    "collapsed": true
   },
   "outputs": [],
   "source": [
    "livedf2= pd.DataFrame(data=livedf2)"
   ]
  },
  {
   "cell_type": "code",
   "execution_count": 489,
   "metadata": {
    "collapsed": true
   },
   "outputs": [],
   "source": [
    "livedf2 = livedf2.stack().to_frame().T"
   ]
  },
  {
   "cell_type": "code",
   "execution_count": 490,
   "metadata": {},
   "outputs": [
    {
     "data": {
      "text/html": [
       "<div>\n",
       "<style>\n",
       "    .dataframe thead tr:only-child th {\n",
       "        text-align: right;\n",
       "    }\n",
       "\n",
       "    .dataframe thead th {\n",
       "        text-align: left;\n",
       "    }\n",
       "\n",
       "    .dataframe tbody tr th {\n",
       "        vertical-align: top;\n",
       "    }\n",
       "</style>\n",
       "<table border=\"1\" class=\"dataframe\">\n",
       "  <thead>\n",
       "    <tr>\n",
       "      <th></th>\n",
       "      <th>0</th>\n",
       "      <th>1</th>\n",
       "      <th>2</th>\n",
       "      <th>3</th>\n",
       "      <th>4</th>\n",
       "      <th>5</th>\n",
       "      <th>6</th>\n",
       "      <th>7</th>\n",
       "      <th>8</th>\n",
       "      <th>9</th>\n",
       "      <th>...</th>\n",
       "      <th>206</th>\n",
       "      <th>207</th>\n",
       "      <th>208</th>\n",
       "      <th>209</th>\n",
       "      <th>210</th>\n",
       "      <th>211</th>\n",
       "      <th>212</th>\n",
       "      <th>213</th>\n",
       "      <th>214</th>\n",
       "      <th>215</th>\n",
       "    </tr>\n",
       "    <tr>\n",
       "      <th></th>\n",
       "      <th>0</th>\n",
       "      <th>0</th>\n",
       "      <th>0</th>\n",
       "      <th>0</th>\n",
       "      <th>0</th>\n",
       "      <th>0</th>\n",
       "      <th>0</th>\n",
       "      <th>0</th>\n",
       "      <th>0</th>\n",
       "      <th>0</th>\n",
       "      <th>...</th>\n",
       "      <th>0</th>\n",
       "      <th>0</th>\n",
       "      <th>0</th>\n",
       "      <th>0</th>\n",
       "      <th>0</th>\n",
       "      <th>0</th>\n",
       "      <th>0</th>\n",
       "      <th>0</th>\n",
       "      <th>0</th>\n",
       "      <th>0</th>\n",
       "    </tr>\n",
       "  </thead>\n",
       "  <tbody>\n",
       "    <tr>\n",
       "      <th>0</th>\n",
       "      <td>-18.203564</td>\n",
       "      <td>-21.471836</td>\n",
       "      <td>-22.52221</td>\n",
       "      <td>-21.712259</td>\n",
       "      <td>-22.264288</td>\n",
       "      <td>-20.707904</td>\n",
       "      <td>-21.726444</td>\n",
       "      <td>-21.76865</td>\n",
       "      <td>-24.302736</td>\n",
       "      <td>-22.250634</td>\n",
       "      <td>...</td>\n",
       "      <td>-24.273819</td>\n",
       "      <td>-24.639939</td>\n",
       "      <td>-24.929152</td>\n",
       "      <td>-24.43919</td>\n",
       "      <td>-25.210171</td>\n",
       "      <td>-24.740646</td>\n",
       "      <td>-22.311913</td>\n",
       "      <td>-22.579805</td>\n",
       "      <td>-22.31466</td>\n",
       "      <td>-21.552436</td>\n",
       "    </tr>\n",
       "  </tbody>\n",
       "</table>\n",
       "<p>1 rows × 216 columns</p>\n",
       "</div>"
      ],
      "text/plain": [
       "         0          1         2          3          4          5          6    \\\n",
       "           0          0         0          0          0          0          0   \n",
       "0 -18.203564 -21.471836 -22.52221 -21.712259 -22.264288 -20.707904 -21.726444   \n",
       "\n",
       "        7          8          9      ...            206        207        208  \\\n",
       "          0          0          0    ...              0          0          0   \n",
       "0 -21.76865 -24.302736 -22.250634    ...     -24.273819 -24.639939 -24.929152   \n",
       "\n",
       "        209        210        211        212        213       214        215  \n",
       "          0          0          0          0          0         0          0  \n",
       "0 -24.43919 -25.210171 -24.740646 -22.311913 -22.579805 -22.31466 -21.552436  \n",
       "\n",
       "[1 rows x 216 columns]"
      ]
     },
     "execution_count": 490,
     "metadata": {},
     "output_type": "execute_result"
    }
   ],
   "source": [
    "livedf2"
   ]
  },
  {
   "cell_type": "code",
   "execution_count": 491,
   "metadata": {
    "collapsed": true
   },
   "outputs": [],
   "source": [
    "twodim= np.expand_dims(livedf2, axis=2)"
   ]
  },
  {
   "cell_type": "code",
   "execution_count": 492,
   "metadata": {},
   "outputs": [
    {
     "name": "stdout",
     "output_type": "stream",
     "text": [
      "1/1 [==============================] - 0s\n"
     ]
    }
   ],
   "source": [
    "livepreds = loaded_model.predict(twodim, \n",
    "                         batch_size=32, \n",
    "                         verbose=1)"
   ]
  },
  {
   "cell_type": "code",
   "execution_count": 493,
   "metadata": {},
   "outputs": [
    {
     "data": {
      "text/plain": [
       "array([[  9.24052530e-22,   0.00000000e+00,   3.62402176e-26,\n",
       "          1.30680162e-36,   4.47264152e-28,   1.00000000e+00,\n",
       "          1.80208343e-30,   2.76873961e-27,   3.62227194e-23,\n",
       "          1.67396652e-11]], dtype=float32)"
      ]
     },
     "execution_count": 493,
     "metadata": {},
     "output_type": "execute_result"
    }
   ],
   "source": [
    "livepreds"
   ]
  },
  {
   "cell_type": "code",
   "execution_count": 494,
   "metadata": {
    "collapsed": true
   },
   "outputs": [],
   "source": [
    "livepreds1=livepreds.argmax(axis=1)"
   ]
  },
  {
   "cell_type": "code",
   "execution_count": 495,
   "metadata": {
    "collapsed": true
   },
   "outputs": [],
   "source": [
    "liveabc = livepreds1.astype(int).flatten()"
   ]
  },
  {
   "cell_type": "code",
   "execution_count": 496,
   "metadata": {},
   "outputs": [
    {
     "data": {
      "text/plain": [
       "array(['male_angry'], dtype=object)"
      ]
     },
     "execution_count": 496,
     "metadata": {},
     "output_type": "execute_result"
    }
   ],
   "source": [
    "livepredictions = (lb.inverse_transform((liveabc)))\n",
    "livepredictions"
   ]
  },
  {
   "cell_type": "code",
   "execution_count": null,
   "metadata": {
    "collapsed": true
   },
   "outputs": [],
   "source": []
  }
 ],
 "metadata": {
  "kernelspec": {
   "display_name": "py3env",
   "language": "python",
   "name": "py3env"
  },
  "language_info": {
   "codemirror_mode": {
    "name": "ipython",
    "version": 3
   },
   "file_extension": ".py",
   "mimetype": "text/x-python",
   "name": "python",
   "nbconvert_exporter": "python",
   "pygments_lexer": "ipython3",
   "version": "3.6.7"
  }
 },
 "nbformat": 4,
 "nbformat_minor": 2
}
