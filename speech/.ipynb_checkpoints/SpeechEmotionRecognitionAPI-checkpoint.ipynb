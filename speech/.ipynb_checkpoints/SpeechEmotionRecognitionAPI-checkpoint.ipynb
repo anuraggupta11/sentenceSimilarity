{
 "cells": [
  {
   "cell_type": "markdown",
   "metadata": {},
   "source": [
    "### Load the model"
   ]
  },
  {
   "cell_type": "code",
   "execution_count": 4,
   "metadata": {},
   "outputs": [
    {
     "name": "stdout",
     "output_type": "stream",
     "text": [
      "WARNING:tensorflow:From /home/absin/Documents/dev/py3env/lib/python3.6/site-packages/tensorflow/python/framework/op_def_library.py:263: colocate_with (from tensorflow.python.framework.ops) is deprecated and will be removed in a future version.\n",
      "Instructions for updating:\n",
      "Colocations handled automatically by placer.\n",
      "WARNING:tensorflow:From /home/absin/Documents/dev/py3env/lib/python3.6/site-packages/keras/backend/tensorflow_backend.py:3445: calling dropout (from tensorflow.python.ops.nn_ops) with keep_prob is deprecated and will be removed in a future version.\n",
      "Instructions for updating:\n",
      "Please use `rate` instead of `keep_prob`. Rate should be set to `rate = 1 - keep_prob`.\n"
     ]
    }
   ],
   "source": [
    "from keras.models import model_from_json\n",
    "json_file = open('models/model.json', 'r')\n",
    "loaded_model_json = json_file.read()\n",
    "json_file.close()\n",
    "loaded_model = model_from_json(loaded_model_json)"
   ]
  },
  {
   "cell_type": "markdown",
   "metadata": {},
   "source": [
    "### Load model weights"
   ]
  },
  {
   "cell_type": "code",
   "execution_count": 6,
   "metadata": {},
   "outputs": [
    {
     "name": "stdout",
     "output_type": "stream",
     "text": [
      "Loaded model and weights from disk\n"
     ]
    }
   ],
   "source": [
    "loaded_model.load_weights(\"models/Emotion_Voice_Detection_Model.h5\")\n",
    "print(\"Loaded model and weights from disk\")"
   ]
  },
  {
   "cell_type": "markdown",
   "metadata": {},
   "source": [
    "### Features from the file"
   ]
  },
  {
   "cell_type": "code",
   "execution_count": 40,
   "metadata": {},
   "outputs": [
    {
     "name": "stdout",
     "output_type": "stream",
     "text": [
      "\r",
      "1/1 [==============================] - 0s 2ms/step\n"
     ]
    },
    {
     "data": {
      "text/plain": [
       "array([[1.6745273e-03, 9.6981909e-11, 2.5627626e-13, 5.2519295e-14,\n",
       "        1.5750495e-09, 8.5405354e-08, 9.0623982e-02, 2.4344497e-06,\n",
       "        1.5853726e-05, 9.0768307e-01]], dtype=float32)"
      ]
     },
     "execution_count": 40,
     "metadata": {},
     "output_type": "execute_result"
    }
   ],
   "source": [
    "import librosa\n",
    "import numpy as np\n",
    "import pandas as pd\n",
    "X, sample_rate = librosa.load('RawData/03-01-07-01-01-01-11.wav', res_type='kaiser_fast',duration=2.5,sr=22050*2,offset=0.5)\n",
    "sample_rate = np.array(sample_rate)\n",
    "mfccs = np.mean(librosa.feature.mfcc(y=X, sr=sample_rate, n_mfcc=13),axis=0)\n",
    "featurelive = mfccs\n",
    "livedf2 = featurelive\n",
    "livedf2= pd.DataFrame(data=livedf2)\n",
    "livedf2 = livedf2.stack().to_frame().T\n",
    "twodim= np.expand_dims(livedf2, axis=2)\n",
    "livepreds = loaded_model.predict(twodim, \n",
    "                         batch_size=32, \n",
    "                         verbose=1)\n",
    "livepreds"
   ]
  },
  {
   "cell_type": "code",
   "execution_count": 41,
   "metadata": {},
   "outputs": [
    {
     "name": "stdout",
     "output_type": "stream",
     "text": [
      "Predicted label - > male_sad with score -> 0.9076831\n"
     ]
    }
   ],
   "source": [
    "livepreds1=livepreds.argmax(axis=1)\n",
    "labels = ['female_angry','female_calm','female_fearful','female_happy','female_sad','male_angry','male_calm','male_fearful','male_happy','male_sad']\n",
    "print('Predicted label - > ' + labels[livepreds1[0]] + ' with score -> ' + str(livepreds[0][livepreds1[0]]))"
   ]
  },
  {
   "cell_type": "markdown",
   "metadata": {},
   "source": [
    "### Benchmark"
   ]
  },
  {
   "cell_type": "code",
   "execution_count": null,
   "metadata": {},
   "outputs": [],
   "source": [
    "# In order to benchmark let's wrap the above 2 steps in a method\n",
    "def getEmotionPredictionChunk(f):\n",
    "    labels = ['female_angry','female_calm','female_fearful','female_happy','female_sad','male_angry','male_calm','male_fearful','male_happy','male_sad']\n",
    "    X, sample_rate = librosa.load(f, res_type='kaiser_fast',duration=2.5,sr=22050*2,offset=0.5)\n",
    "    sample_rate = np.array(sample_rate)\n",
    "    mfccs = np.mean(librosa.feature.mfcc(y=X, sr=sample_rate, n_mfcc=13),axis=0)\n",
    "    featurelive = mfccs\n",
    "    livedf2 = featurelive\n",
    "    livedf2= pd.DataFrame(data=livedf2)\n",
    "    livedf2 = livedf2.stack().to_frame().T\n",
    "    twodim= np.expand_dims(livedf2, axis=2)\n",
    "    livepreds = loaded_model.predict(twodim, \n",
    "                         batch_size=32, \n",
    "                         verbose=1)\n",
    "    livepreds1=livepreds.argmax(axis=1)\n",
    "    return labels[livepreds1[0]], str(livepreds[0][livepreds1[0]]))\n",
    "\n",
    "def get_file_metadata(file_name):\n",
    "    print(file_name + ' Characteristics: ')\n",
    "    split = file_name.split('-')\n",
    "    if(split[0] == '01'):\n",
    "        print('Modality: full-AV')\n",
    "    elif(split[0] == '02'):\n",
    "        print('Modality: video-only')\n",
    "    elif(split[0] == '03'):\n",
    "        print('Modality: audio-only')\n",
    "        \n",
    "    if(split[1] == '01'):\n",
    "        print('Vocal channel: speech')\n",
    "    elif(split[1] == '02'):\n",
    "        print('Vocal channel: song')\n",
    "        \n",
    "    if(split[2] == '01'):\n",
    "        print('Emotion: neutral')\n",
    "    elif(split[2] == '02'):\n",
    "        print('Emotion: calm')\n",
    "    elif(split[2] == '03'):\n",
    "        print('Emotion: happy')\n",
    "    elif(split[2] == '04'):\n",
    "        print('Emotion: sad')\n",
    "    elif(split[2] == '05'):\n",
    "        print('Emotion: angry')\n",
    "    elif(split[2] == '06'):\n",
    "        print('Emotion: fearful')\n",
    "    elif(split[2] == '07'):\n",
    "        print('Emotion: disgust')\n",
    "    elif(split[2] == '08'):\n",
    "        print('Emotion: surprised')\n",
    "    \n",
    "for f in os.listdir('/home/absin/git/sentenceSimilarity/speech/RawData/'):\n",
    "    totalCount = 0\n",
    "    successCount = 0\n",
    "    try:\n",
    "        predicted, score = getEmotionPredictionChunk(folderPath+f)\n",
    "        actual = getEmotionTypeFromFileName(f)\n",
    "        if len(expected)>0:\n",
    "            totalCount += 1\n",
    "            if predicted.split('_')[1] == actual:\n",
    "                successCount += 1\n",
    "    except:\n",
    "        print(\"An exception occurred with \"+f)\n",
    "    print(\"Final result: \"+str(successCount)+\" out of \"+str(totalCount))"
   ]
  }
 ],
 "metadata": {
  "kernelspec": {
   "display_name": "py3env",
   "language": "python",
   "name": "py3env"
  },
  "language_info": {
   "codemirror_mode": {
    "name": "ipython",
    "version": 3
   },
   "file_extension": ".py",
   "mimetype": "text/x-python",
   "name": "python",
   "nbconvert_exporter": "python",
   "pygments_lexer": "ipython3",
   "version": "3.6.7"
  }
 },
 "nbformat": 4,
 "nbformat_minor": 2
}
