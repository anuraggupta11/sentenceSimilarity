{
 "cells": [
  {
   "cell_type": "markdown",
   "metadata": {},
   "source": [
    "# Speech Emotion Recognition Training"
   ]
  },
  {
   "cell_type": "markdown",
   "metadata": {},
   "source": [
    "### Downloading dataset and arranging files\n",
    "We are going to use the RAVDESS dataset for this purpose. \n",
    "The dataset is available [here](https://zenodo.org/record/1188976#.XJtURKczbCI).\n",
    "We will use the audio-only datasets. There are 2 of them speech based and song based.\n",
    "We will use speech bases system. There are ~ 1400 files with different tags."
   ]
  },
  {
   "cell_type": "code",
   "execution_count": 3,
   "metadata": {},
   "outputs": [
    {
     "name": "stdout",
     "output_type": "stream",
     "text": [
      "Created /home/absin/git/sentenceSimilarity/speech/RawData/\n",
      "Downloading dataset ...\n",
      "Finished downloading dataset. Now extracting files\n",
      "/home/absin/git/sentenceSimilarity/speech/RawData/Audio_Speech_Actors_01-24.zipFile Removed!\n",
      "Number of audio files = 1440\n",
      "Successfully prepared dataset\n"
     ]
    }
   ],
   "source": [
    "import os\n",
    "import requests\n",
    "import sys\n",
    "import zipfile\n",
    "import shutil\n",
    "\n",
    "os.getcwd()\n",
    "dataset_path = os.getcwd() + '/RawData/'\n",
    "dataset_url = 'https://zenodo.org/record/1188976/files/Audio_Speech_Actors_01-24.zip'\n",
    "\n",
    "def download_file(url, folder):\n",
    "    print('Downloading dataset ...')\n",
    "    local_filename = url.split('/')[-1]\n",
    "    with requests.get(url, stream=True) as r:\n",
    "        r.raise_for_status()\n",
    "        with open(folder + local_filename, 'wb') as f:\n",
    "            for chunk in r.iter_content(chunk_size=8192): \n",
    "                if chunk: # filter out keep-alive new chunks\n",
    "                    f.write(chunk)\n",
    "                    # f.flush()\n",
    "    return local_filename\n",
    "\n",
    "def unzip(filename, folder):\n",
    "    print('Finished downloading dataset. Now extracting files')\n",
    "    zip_ref = zipfile.ZipFile(dataset_path + \"Audio_Speech_Actors_01-24.zip\", 'r')\n",
    "    zip_ref.extractall(dataset_path)\n",
    "    zip_ref.close()\n",
    "    \n",
    "# Check if the folder already exists \n",
    "if os.path.isdir(dataset_path) and os.path.exists(dataset_path):\n",
    "    print(dataset_path + ' exists, checking if the audio files are there')\n",
    "else:\n",
    "    os.makedirs(dataset_path)\n",
    "    if os.path.isdir(dataset_path) and os.path.exists(dataset_path):\n",
    "        print('Created '+ dataset_path)\n",
    "    else:\n",
    "        print('Failed to create directory: ' + dataset_path + ' Check if you have enough permissions')\n",
    "        sys.exit()\n",
    "\n",
    "# Check if the directory has files or not\n",
    "audio_files = os.listdir(dataset_path)\n",
    "if(len(audio_files)<1):\n",
    "    local_filename = download_file(dataset_url, dataset_path)\n",
    "    unzip(dataset_path + local_filename, dataset_path)\n",
    "    os.remove(dataset_path + local_filename)\n",
    "    print(dataset_path + local_filename + \"File Removed!\")\n",
    "\n",
    "# The audio files are in /RawData/Actor_**/ folders\n",
    "# Let's move all the audio files to /RawData/ folder \n",
    "# And delete all the /RawData/Actor_**/ folders.\n",
    "for folder in os.listdir(dataset_path):\n",
    "    if os.path.isdir(dataset_path + folder): \n",
    "        for f in os.listdir(dataset_path + folder):\n",
    "            shutil.move(dataset_path + folder + '/' + f, dataset_path)\n",
    "        os.rmdir(dataset_path + folder)\n",
    "        continue\n",
    "    else:\n",
    "        continue\n",
    "\n",
    "audio_files = os.listdir(dataset_path)\n",
    "print('Number of audio files = ' + str(len(audio_files)))\n",
    "if len(audio_files)>1400:\n",
    "    print('Successfully prepared dataset')"
   ]
  },
  {
   "cell_type": "markdown",
   "metadata": {},
   "source": [
    "## Filename identifiers \n",
    "\n",
    "* Modality (01 = full-AV, 02 = video-only, 03 = audio-only).\n",
    "* Vocal channel (01 = speech, 02 = song).\n",
    "* Emotion (01 = neutral, 02 = calm, 03 = happy, 04 = sad, 05 = angry, 06 = fearful, 07 = disgust, 08 = surprised).\n",
    "* Emotional intensity (01 = normal, 02 = strong). NOTE: There is no strong intensity for the 'neutral' emotion.\n",
    "* Statement (01 = \"Kids are talking by the door\", 02 = \"Dogs are sitting by the door\").\n",
    "* Repetition (01 = 1st repetition, 02 = 2nd repetition).\n",
    "* Actor (01 to 24. Odd numbered actors are male, even numbered actors are female)."
   ]
  },
  {
   "cell_type": "code",
   "execution_count": 6,
   "metadata": {},
   "outputs": [
    {
     "name": "stdout",
     "output_type": "stream",
     "text": [
      "03-01-01-01-01-01-03.wav Characteristics: \n",
      "Modality: audio-only\n",
      "Vocal channel: speech\n",
      "Emotion: neutral\n",
      "Emotional intensity: normal\n",
      "Statement: Kids are talking by the door\n",
      "Repetition: 1st repetition\n",
      "Actor: 01\n"
     ]
    }
   ],
   "source": [
    "def get_file_metadata(file_name):\n",
    "    print(file_name + ' Characteristics: ')\n",
    "    split = file_name.split('-')\n",
    "    if(split[0] == '01'):\n",
    "        print('Modality: full-AV')\n",
    "    elif(split[0] == '02'):\n",
    "        print('Modality: video-only')\n",
    "    elif(split[0] == '03'):\n",
    "        print('Modality: audio-only')\n",
    "        \n",
    "    if(split[1] == '01'):\n",
    "        print('Vocal channel: speech')\n",
    "    elif(split[1] == '02'):\n",
    "        print('Vocal channel: song')\n",
    "        \n",
    "    if(split[2] == '01'):\n",
    "        print('Emotion: neutral')\n",
    "    elif(split[2] == '02'):\n",
    "        print('Emotion: calm')\n",
    "    elif(split[2] == '03'):\n",
    "        print('Emotion: happy')\n",
    "    elif(split[2] == '04'):\n",
    "        print('Emotion: sad')\n",
    "    elif(split[2] == '05'):\n",
    "        print('Emotion: angry')\n",
    "    elif(split[2] == '06'):\n",
    "        print('Emotion: fearful')\n",
    "    elif(split[2] == '07'):\n",
    "        print('Emotion: disgust')\n",
    "    elif(split[2] == '08'):\n",
    "        print('Emotion: surprised')\n",
    "    \n",
    "    if(split[3] == '01'):\n",
    "        print('Emotional intensity: normal')\n",
    "    elif(split[3] == '02'):\n",
    "        print('Emotional intensity: strong')\n",
    "    \n",
    "    if(split[4] == '01'):\n",
    "        print('Statement: Kids are talking by the door')\n",
    "    elif(split[4] == '02'):\n",
    "        print('Statement: Dogs are sitting by the door')\n",
    "        \n",
    "    if(split[5] == '01'):\n",
    "        print('Repetition: 1st repetition')\n",
    "    elif(split[5] == '02'):\n",
    "        print('Repetition: 2nd repetition')\n",
    "        \n",
    "    print('Actor: ' + split[5])\n",
    "    \n",
    "# Let's understand what the name of a RAVDESS file-represents\n",
    "get_file_metadata('03-01-01-01-01-01-03.wav')"
   ]
  },
  {
   "cell_type": "markdown",
   "metadata": {},
   "source": [
    "### Feature extraction\n",
    "We are"
   ]
  }
 ],
 "metadata": {
  "kernelspec": {
   "display_name": "venv",
   "language": "python",
   "name": "venv"
  },
  "language_info": {
   "codemirror_mode": {
    "name": "ipython",
    "version": 3
   },
   "file_extension": ".py",
   "mimetype": "text/x-python",
   "name": "python",
   "nbconvert_exporter": "python",
   "pygments_lexer": "ipython3",
   "version": "3.5.2"
  }
 },
 "nbformat": 4,
 "nbformat_minor": 2
}
